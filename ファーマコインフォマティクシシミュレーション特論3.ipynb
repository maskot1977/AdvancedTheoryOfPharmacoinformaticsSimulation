{
 "cells": [
  {
   "cell_type": "markdown",
   "metadata": {
    "id": "lh_35zNy_O02"
   },
   "source": [
    "# ファーマコインフォマティクスシミュレーション特論\n",
    "\n",
    "小寺正明\n",
    "\n",
    "# 第3回　化学構造情報処理\n",
    "\n",
    "第1回、第2回は純粋に機械学習の諸問題について解説しましたが、第3回は話題を変えて、化学構造をコンピュータ上で処理する方法について解説します。\n",
    "\n",
    "# RDKitのインストール\n",
    "\n",
    "ここでは、プログラミング言語 Python で化学構造を取り扱うときによく用いられる RDKit を使います。まずはインストールから。理由は分かりませんが、次のスクリプトは時々失敗します。５分程度待っても終了しない場合は、その後いつまで待っても終了しないことがあります。そのようなときは、一旦停止して再度実行するか、再起動して再度実行してください。"
   ]
  },
  {
   "cell_type": "code",
   "execution_count": null,
   "metadata": {
    "colab": {
     "base_uri": "https://localhost:8080/"
    },
    "id": "y6ks-QVX9FFw",
    "outputId": "1afe38ec-0d39-4d7c-9e26-5f04722d9bba"
   },
   "outputs": [],
   "source": [
    "!wget -c https://repo.continuum.io/miniconda/Miniconda3-latest-Linux-x86_64.sh\n",
    "!chmod +x Miniconda3-latest-Linux-x86_64.sh\n",
    "!bash ./Miniconda3-latest-Linux-x86_64.sh -b -f -p /usr/local\n",
    "!conda install -q -y -c rdkit rdkit python=3.7\n",
    "import sys\n",
    "sys.path.append('/usr/local/lib/python3.7/site-packages/')"
   ]
  },
  {
   "cell_type": "markdown",
   "metadata": {
    "id": "2cjdXojV8fXK"
   },
   "source": [
    "次の文を実行してエラーが起こらなければ、RDKit インストール成功です。"
   ]
  },
  {
   "cell_type": "code",
   "execution_count": null,
   "metadata": {
    "id": "OjkgI9LF73li"
   },
   "outputs": [],
   "source": [
    "import rdkit"
   ]
  },
  {
   "cell_type": "markdown",
   "metadata": {
    "id": "glkqn9VX_Vvt"
   },
   "source": [
    "# 化合物データのダウンロード\n",
    "\n",
    "以下のように化合物データをダウンロードします。このデータは、PCCDBというデータベースからいくつかの化合物をピックアップしたものです。"
   ]
  },
  {
   "cell_type": "code",
   "execution_count": null,
   "metadata": {
    "colab": {
     "base_uri": "https://localhost:8080/"
    },
    "id": "e2lC17Vb9O7d",
    "outputId": "ecf298b1-2908-42da-c329-b85edc234db8"
   },
   "outputs": [],
   "source": [
    "import urllib.request\n",
    "\n",
    "# 化合物データのダウンロード\n",
    "url = \"https://raw.githubusercontent.com/maskot1977/tmd2020/main/data/data_1.csv\"\n",
    "urllib.request.urlretrieve(url, url.split(\"/\")[-1])"
   ]
  },
  {
   "cell_type": "markdown",
   "metadata": {
    "id": "wUKkkCJc_dRJ"
   },
   "source": [
    "# pandasのインポートとデータ読み込み\n",
    "\n",
    "読み込んだ化合物データの内容は次のようにして確認できます。この中で、「PCCDB-ID」はデータベース中の化合物のID、「Open Babel SMILES」は化合物構造を「SMILES記法（スマイルスきほう、英語: simplified molecular input line entry system）」で表現したもの、残りの列はそれぞれの分子の様々な物性値です。"
   ]
  },
  {
   "cell_type": "code",
   "execution_count": null,
   "metadata": {
    "colab": {
     "base_uri": "https://localhost:8080/",
     "height": 574
    },
    "id": "9glGPKEe9mWq",
    "outputId": "a56fb896-a80d-465f-ab0a-cee5f412ff4a"
   },
   "outputs": [],
   "source": [
    "import pandas as pd\n",
    "\n",
    "# csvからのデータ読み込み\n",
    "df = pd.read_csv('data_1.csv')\n",
    "df"
   ]
  },
  {
   "cell_type": "markdown",
   "metadata": {
    "id": "mup0U1c0_5EB"
   },
   "source": [
    "# RDKitを使った化学フォーマット変換\n",
    "\n",
    "化合物構造の表現方法はSMILES以外にも色んなフォーマットがあります。RDKit は、それらのフォーマットを相互に変換する機能があります。\n",
    "\n",
    "参考記事：https://rdkit.org/docs_jp/Getting_Started_with_RDKit_in_Python_jp.html\n",
    "\n",
    "まずは、次のSMILESで表される分子を他のフォーマットに変換してみましょう。"
   ]
  },
  {
   "cell_type": "code",
   "execution_count": null,
   "metadata": {
    "colab": {
     "base_uri": "https://localhost:8080/",
     "height": 35
    },
    "id": "UeKsJwWB_4lV",
    "outputId": "6b9d3236-86a4-4d6e-c7d3-6a0ad3524f5d"
   },
   "outputs": [],
   "source": [
    "# １つめのSMILES\n",
    "smile = df['Open Babel SMILES'][0]\n",
    "smile"
   ]
  },
  {
   "cell_type": "markdown",
   "metadata": {
    "id": "wExE1YWybC_s"
   },
   "source": [
    "まずは SMILES を RDKit の Mol オブジェクトに変換します。"
   ]
  },
  {
   "cell_type": "code",
   "execution_count": null,
   "metadata": {
    "colab": {
     "base_uri": "https://localhost:8080/"
    },
    "id": "uEGCcw52-xe6",
    "outputId": "3d244779-8ecd-4a5d-cab7-89a789316294"
   },
   "outputs": [],
   "source": [
    "from rdkit import Chem\n",
    "\n",
    "# SMILES を RDKit Mol に変換\n",
    "mol = Chem.MolFromSmiles(smile)\n",
    "mol"
   ]
  },
  {
   "cell_type": "markdown",
   "metadata": {
    "id": "1dfTVT9nc2ow"
   },
   "source": [
    "Mol オブジェクトにすると、たとえば名前を付けるとか、様々な属性を付与できます。"
   ]
  },
  {
   "cell_type": "code",
   "execution_count": null,
   "metadata": {
    "id": "5JyELjxtc1xY"
   },
   "outputs": [],
   "source": [
    "# 名前をつける\n",
    "mol.SetProp(\"_Name\", \"Satan Miracle Special Ultra Super Megaton Punch\")"
   ]
  },
  {
   "cell_type": "markdown",
   "metadata": {
    "id": "sZcZJgCXhhtR"
   },
   "source": [
    "次のようにして InChI に変換できます。"
   ]
  },
  {
   "cell_type": "code",
   "execution_count": null,
   "metadata": {
    "colab": {
     "base_uri": "https://localhost:8080/",
     "height": 35
    },
    "id": "6omMTyHqBB8z",
    "outputId": "c37fda9b-fcbb-4bf2-bf98-86174f00aaa4"
   },
   "outputs": [],
   "source": [
    "# InChI に変換\n",
    "inchi = Chem.MolToInchi(mol)\n",
    "inchi"
   ]
  },
  {
   "cell_type": "markdown",
   "metadata": {
    "id": "kigFTPJxc_qF"
   },
   "source": [
    "次のようにして、化合物を MolBlock 形式に変換できます。"
   ]
  },
  {
   "cell_type": "code",
   "execution_count": null,
   "metadata": {
    "colab": {
     "base_uri": "https://localhost:8080/"
    },
    "id": "6cSSc_3GAJfk",
    "outputId": "8689dff9-2b1c-4727-ad11-7b2a50fe8e76"
   },
   "outputs": [],
   "source": [
    "# MolBlock形式に変換\n",
    "molblock = Chem.MolToMolBlock(mol)\n",
    "print(molblock)"
   ]
  },
  {
   "cell_type": "markdown",
   "metadata": {
    "id": "OTyq19toixI2"
   },
   "source": [
    "MolBlock はデフォルトでは水素原子を明記しませんが、明記する書き方に変更もできます。"
   ]
  },
  {
   "cell_type": "code",
   "execution_count": null,
   "metadata": {
    "colab": {
     "base_uri": "https://localhost:8080/"
    },
    "id": "Dwed0FqmBh2I",
    "outputId": "fb11f0d7-4641-4af0-a74a-815c084bc588"
   },
   "outputs": [],
   "source": [
    "# 水素原子を明記する\n",
    "mol = Chem.AddHs(mol)\n",
    "molblock = Chem.MolToMolBlock(mol)\n",
    "print(molblock)"
   ]
  },
  {
   "cell_type": "markdown",
   "metadata": {
    "id": "5EGECrzIjJQm"
   },
   "source": [
    "水素原子を省略した形に戻すこともできます。"
   ]
  },
  {
   "cell_type": "code",
   "execution_count": null,
   "metadata": {
    "colab": {
     "base_uri": "https://localhost:8080/"
    },
    "id": "d6NzgbSJDGTz",
    "outputId": "be3b0728-1093-4044-f44c-0f768391f103"
   },
   "outputs": [],
   "source": [
    "# 水素原子を省略する\n",
    "mol = Chem.RemoveHs(mol)\n",
    "molblock = Chem.MolToMolBlock(mol)\n",
    "print(molblock)"
   ]
  },
  {
   "cell_type": "markdown",
   "metadata": {
    "id": "IBVrcg4ylNC7"
   },
   "source": [
    "次のようにすれば、MolBlock形式のファイルを保存できます。"
   ]
  },
  {
   "cell_type": "code",
   "execution_count": null,
   "metadata": {
    "id": "57PZVBj9DMhE"
   },
   "outputs": [],
   "source": [
    "# ファイルに出力する\n",
    "filename = 'SatanMiracleSpecialUltraSuperMegatonPunch.mol'\n",
    "print(Chem.MolToMolBlock(mol), file=open(filename, 'w+'))"
   ]
  },
  {
   "cell_type": "markdown",
   "metadata": {
    "id": "0DHPlk1eGi49"
   },
   "source": [
    "# 描画\n",
    "\n",
    "分子構造を取り扱ってはみましたが、やはり、どんな分子なのか「絵」を見てみたいですよね。\n",
    "\n",
    "## １分子の描画\n",
    "\n",
    "次のようにすれば分子構造を描画できます。"
   ]
  },
  {
   "cell_type": "code",
   "execution_count": null,
   "metadata": {
    "colab": {
     "base_uri": "https://localhost:8080/",
     "height": 317
    },
    "id": "rv_EghuqD28o",
    "outputId": "7b5512cc-5883-4ce2-8362-e0d9c347f578"
   },
   "outputs": [],
   "source": [
    "from rdkit.Chem import Draw\n",
    "\n",
    "smile = df['Open Babel SMILES'][0]\n",
    "mol = Chem.MolFromSmiles(smile)\n",
    "mol.SetProp(\"_Name\", smile)\n",
    "\n",
    "# ノートブック上に描画\n",
    "Draw.MolToImage(mol, legend=mol.GetProp(\"_Name\"))"
   ]
  },
  {
   "cell_type": "markdown",
   "metadata": {
    "id": "-3VL4wnCmpwm"
   },
   "source": [
    "次のようにして、画像ファイルを保存できます。"
   ]
  },
  {
   "cell_type": "code",
   "execution_count": null,
   "metadata": {
    "id": "yOtCeidGEgBh"
   },
   "outputs": [],
   "source": [
    "# ファイルに出力する\n",
    "filename = 'SatanMiracleSpecialUltraSuperMegatonPunch.png'\n",
    "Chem.Draw.MolToFile(mol, filename, legend=mol.GetProp(\"_Name\"))"
   ]
  },
  {
   "cell_type": "markdown",
   "metadata": {
    "id": "IFvVf5N-WTN7"
   },
   "source": [
    "## 構造式描画をもっと詳しく\n",
    "\n",
    "MolBlock などのファイルフォーマットを詳細に見ていると、何番目の原子がどれなのか分からなくなることがあります。それが分かるように図示してみましょう。ただし、この方法では、原子が 0-index で表記されることに注意してください。\n",
    "\n",
    "参考記事： https://future-chem.com/rdkit-2ddraw-svg/"
   ]
  },
  {
   "cell_type": "code",
   "execution_count": null,
   "metadata": {
    "colab": {
     "base_uri": "https://localhost:8080/",
     "height": 371
    },
    "id": "U80XX-fcTvVu",
    "outputId": "fafea6c0-7d91-44c8-c537-e1ae11b5d868"
   },
   "outputs": [],
   "source": [
    "# どの原子にどの番号がついているか表示したい\n",
    "from IPython.display import SVG\n",
    "from rdkit.Chem.Draw import rdMolDraw2D\n",
    "\n",
    "view = rdMolDraw2D.MolDraw2DSVG(300,350)\n",
    "view.SetFontSize(0.9 * view.FontSize())\n",
    "tm = rdMolDraw2D.PrepareMolForDrawing(mol)\n",
    "\n",
    "option = view.drawOptions()\n",
    "for atomidx, atom in enumerate(mol.GetAtoms()):\n",
    "    symbol = mol.GetAtomWithIdx(atomidx).GetSymbol()\n",
    "    option.atomLabels[atomidx] = symbol + str(atomidx)\n",
    "\n",
    "view.DrawMolecule(tm, legend=mol.GetProp(\"_Name\"))\n",
    "view.FinishDrawing()\n",
    "# 描画\n",
    "svg = view.GetDrawingText()\n",
    "SVG(svg)"
   ]
  },
  {
   "cell_type": "markdown",
   "metadata": {
    "id": "YeDKDco6s-j4"
   },
   "source": [
    "次のようにすれば、指定した原子をハイライトできます。原子は 0-index で指定することにご注意ください。"
   ]
  },
  {
   "cell_type": "code",
   "execution_count": null,
   "metadata": {
    "colab": {
     "base_uri": "https://localhost:8080/",
     "height": 371
    },
    "id": "UuN75Z_ZXY50",
    "outputId": "8680b501-fd4a-48a6-dc02-90d8a7ff9a51"
   },
   "outputs": [],
   "source": [
    "# 指定した原子をハイライトしたい\n",
    "from IPython.display import SVG\n",
    "from rdkit.Chem.Draw import rdMolDraw2D\n",
    "\n",
    "colors = {6: (1,0,0), 8: (0,1,0), 10: (0, 0, 1)}\n",
    "radii = {6: 0.25, 8: 0.50, 10: 0.2}\n",
    "\n",
    "view = rdMolDraw2D.MolDraw2DSVG(300,350)\n",
    "view.SetFontSize(0.9 * view.FontSize())\n",
    "tm = rdMolDraw2D.PrepareMolForDrawing(mol)\n",
    "option = view.drawOptions()\n",
    "option.multipleBondOffset=0.07\n",
    "option.padding=0.11\n",
    "option.legendFontSize=20\n",
    "view.DrawMolecule(tm,\n",
    "                  highlightAtoms=colors.keys(),\n",
    "                  highlightAtomColors=colors,\n",
    "                  highlightAtomRadii=radii,\n",
    "                  legend=mol.GetProp(\"_Name\")\n",
    "                  )\n",
    "view.FinishDrawing()\n",
    "# 描画\n",
    "svg = view.GetDrawingText()\n",
    "SVG(svg)"
   ]
  },
  {
   "cell_type": "markdown",
   "metadata": {
    "id": "TI2jsevUQCcV"
   },
   "source": [
    "## 複数分子の描画\n",
    "\n",
    "次のようにすれば、ライブラリ中にある複数の分子を一気に描画できます。"
   ]
  },
  {
   "cell_type": "code",
   "execution_count": null,
   "metadata": {
    "id": "eKII535NDXel"
   },
   "outputs": [],
   "source": [
    "mols = [] # 複数の RDKit Mol を格納するリスト\n",
    "for smile, id in zip(df['Open Babel SMILES'], df['PCCDB-ID']):\n",
    "    mol = Chem.MolFromSmiles(smile) # SMILES を RDKit Mol に変換\n",
    "    mol.SetProp(\"_Name\", str(id)) # 名前をつける\n",
    "    mols.append(mol) # リストに格納する"
   ]
  },
  {
   "cell_type": "code",
   "execution_count": null,
   "metadata": {
    "colab": {
     "base_uri": "https://localhost:8080/",
     "height": 1000
    },
    "id": "sDbxP7n3Guy6",
    "outputId": "3cacba94-d979-469b-d123-93982f7e996b"
   },
   "outputs": [],
   "source": [
    "x_start = 0 # 表示したい最初の化合物\n",
    "x_end = 100 # 表示したい最後の化合物の次\n",
    "img = Draw.MolsToGridImage(\n",
    "    mols[x_start:x_end], # スライスで範囲を指定\n",
    "    molsPerRow=10, # 列の数\n",
    "    subImgSize=(100,100), # 画像サイズ\n",
    "    legends=[x.GetProp(\"_Name\") for x in mols[x_start:x_end]], # 注釈\n",
    "    )\n",
    "display(img)"
   ]
  },
  {
   "cell_type": "markdown",
   "metadata": {
    "id": "GDz5ylpbxQQB"
   },
   "source": [
    "次のようにすれば画像データを保存できます。"
   ]
  },
  {
   "cell_type": "code",
   "execution_count": null,
   "metadata": {
    "id": "uteEz-Q9HVAn"
   },
   "outputs": [],
   "source": [
    "# ファイルに出力\n",
    "img.save('SatanMiracleSpecialUltraSuperMegatonPunch_grid.png')"
   ]
  },
  {
   "cell_type": "markdown",
   "metadata": {
    "id": "OIlGUGvcdHdk"
   },
   "source": [
    "# カノニカライズ（記述順序の標準化）\n",
    "\n",
    "これまで、化学構造を SMILES で表記してきましたが、SMILES 表記をするためには、記述する原子の順序を決定しなければなりません。残念なことに、記述順序は、使うソフトウェアによって異なります。今回用いたデータベースは Open Babel というツールによって記述された SMILES を用いていますので、Open Babel によるカノニカライズ（記述順序の標準化）をされていると考えられます。これを RDKit によるカノニカライズに切り替えたら、どのくらい変わってしまうか確認してみましょう。"
   ]
  },
  {
   "cell_type": "code",
   "execution_count": null,
   "metadata": {
    "colab": {
     "base_uri": "https://localhost:8080/"
    },
    "id": "S13haoSndiCT",
    "outputId": "89fc42e5-16a5-4792-c796-08caef20e952"
   },
   "outputs": [],
   "source": [
    "cnt = 0\n",
    "for smile in df['Open Babel SMILES']:\n",
    "    mol = Chem.MolFromSmiles(smile) # SMILES を RDKit Mol Object に変換し\n",
    "    new_smile = Chem.MolToSmiles(mol) # それを SMILES に戻す\n",
    "    if smile != new_smile: # もとの SMILES と新しい SMILES が違っていたら表示する\n",
    "        cnt += 1\n",
    "        print(cnt, \"\\t\", smile, \"\\t\", new_smile)"
   ]
  },
  {
   "cell_type": "markdown",
   "metadata": {
    "id": "Z-r2yEiCe4PX"
   },
   "source": [
    "残念なことに（？）、Open Babel による SMILES と RDKit による SMILES はだいぶ異なることが分かります。"
   ]
  },
  {
   "cell_type": "markdown",
   "metadata": {
    "id": "Ngo0Z_nODW1I"
   },
   "source": [
    "# 電荷の中和\n",
    "\n",
    "次に、化学構造の前処理について紹介します。まずは「電荷の中和」です。\n"
   ]
  },
  {
   "cell_type": "code",
   "execution_count": null,
   "metadata": {
    "colab": {
     "base_uri": "https://localhost:8080/",
     "height": 234
    },
    "id": "3XdicSzjDbBe",
    "outputId": "a31df057-0f6a-4f6a-91b0-3e27ee705e8a"
   },
   "outputs": [],
   "source": [
    "from rdkit.Chem import MolStandardize\n",
    "\n",
    "uc = MolStandardize.charge.Uncharger()\n",
    "\n",
    "smile = \"[NH3+][C@@H](Cc1c[nH]cn1)C(=O)[O-]\"\n",
    "before = Chem.MolFromSmiles(smile)\n",
    "after = uc.uncharge(before)\n",
    "smile2 = Chem.MolToSmiles(after)\n",
    "\n",
    "print(smile, \"=>\", smile2)\n",
    "Draw.MolsToGridImage([before, after])"
   ]
  },
  {
   "cell_type": "markdown",
   "metadata": {
    "id": "z34mofO7HJqe"
   },
   "source": [
    "# 脱塩\n",
    "\n",
    "化学構造の前処理、次は「脱塩」です。"
   ]
  },
  {
   "cell_type": "code",
   "execution_count": null,
   "metadata": {
    "colab": {
     "base_uri": "https://localhost:8080/",
     "height": 234
    },
    "id": "Mkms846dHLJM",
    "outputId": "f7507dd6-1dc9-40bf-c225-51de69743927"
   },
   "outputs": [],
   "source": [
    "from rdkit.Chem.SaltRemover import SaltRemover\n",
    "\n",
    "remover = SaltRemover(defnData=\"[Cl,Br,Na]\")\n",
    "\n",
    "smile = \"[NH3+][C@@H](Cc1c[nH]cn1)C(=O)[O-].[Na+].[Cl-]\"\n",
    "before = Chem.MolFromSmiles(smile)\n",
    "after = remover.StripMol(before)\n",
    "smile2 = Chem.MolToSmiles(after)\n",
    "\n",
    "print(smile, \"=>\", smile2)\n",
    "Draw.MolsToGridImage([before, after])"
   ]
  },
  {
   "cell_type": "markdown",
   "metadata": {
    "id": "rZTI3LS_IoYK"
   },
   "source": [
    "# 一番大きい分子だけ残す\n",
    "\n",
    "化学構造の前処理、最後に「一番大きい分子だけ残す」です。"
   ]
  },
  {
   "cell_type": "code",
   "execution_count": null,
   "metadata": {
    "colab": {
     "base_uri": "https://localhost:8080/",
     "height": 234
    },
    "id": "iHB7XBYiIrQR",
    "outputId": "091bb725-a8b7-4c82-aff0-4a950f80f528"
   },
   "outputs": [],
   "source": [
    "from rdkit.Chem import MolStandardize\n",
    "\n",
    "lfc = MolStandardize.fragment.LargestFragmentChooser()\n",
    "\n",
    "smile = \"[NH3+][C@@H](Cc1c[nH]cn1)C(=O)[O-].[Na+].[Cl-].[O-]C(=O)CCC(=O)[O-]\"\n",
    "before = Chem.MolFromSmiles(smile)\n",
    "after = lfc.choose(before)\n",
    "smile2 = Chem.MolToSmiles(after)\n",
    "\n",
    "print(smile, \"=>\", smile2)\n",
    "Draw.MolsToGridImage([before, after])"
   ]
  },
  {
   "cell_type": "markdown",
   "metadata": {
    "id": "D3JN67z0a0Z1"
   },
   "source": [
    "# 前処理を全部やる"
   ]
  },
  {
   "cell_type": "code",
   "execution_count": null,
   "metadata": {
    "id": "9rr_adAxa2iL"
   },
   "outputs": [],
   "source": [
    "from rdkit.Chem import MolStandardize\n",
    "from rdkit.Chem.SaltRemover import SaltRemover\n",
    "\n",
    "uc = MolStandardize.charge.Uncharger()\n",
    "remover = SaltRemover(defnData=\"[Cl,Br,Na]\")\n",
    "lfc = MolStandardize.fragment.LargestFragmentChooser()\n",
    "\n",
    "preprocessed_smiles = []\n",
    "for smile in df['Open Babel SMILES']:\n",
    "    mol = Chem.MolFromSmiles(smile)\n",
    "    smile = Chem.MolToSmiles(mol)\n",
    "    mol = uc.uncharge(mol)\n",
    "    mol = remover.StripMol(mol)\n",
    "    mol = lfc.choose(mol)\n",
    "    new_smile = Chem.MolToSmiles(mol)\n",
    "    preprocessed_smiles.append(new_smile)\n",
    "    if smile != new_smile:\n",
    "        print(smile, new_smile)"
   ]
  },
  {
   "cell_type": "markdown",
   "metadata": {
    "id": "B-pZEQC2gvm0"
   },
   "source": [
    "上のようにすると、preprocessed_smiles には前処理済みのSMILESが格納されます。今回のケースでは、Open Babel SMILES が RDKit SMILES に変換されるだけで、それ以外の前処理の効果は特になかったようです。"
   ]
  },
  {
   "cell_type": "markdown",
   "metadata": {
    "id": "92WJwsYJMGUO"
   },
   "source": [
    "# 部分構造検索\n",
    "\n",
    "次は、化学構造情報処理でよく使われる、部分構造検索をやってみましょう。例として、次の分子の部分構造を取り扱ってみます。"
   ]
  },
  {
   "cell_type": "code",
   "execution_count": null,
   "metadata": {
    "colab": {
     "base_uri": "https://localhost:8080/",
     "height": 317
    },
    "id": "3Q8fIAzGIKqP",
    "outputId": "d757039b-3ccc-4bc5-b429-81f698c226aa"
   },
   "outputs": [],
   "source": [
    "from rdkit.Chem import Draw\n",
    "\n",
    "smile = df['Open Babel SMILES'][0]\n",
    "mol = Chem.MolFromSmiles(smile)\n",
    "mol.SetProp(\"_Name\", \"Recoom Ultra Fighting Miracle Bomber\")\n",
    "\n",
    "# ノートブック上に描画\n",
    "Draw.MolToImage(mol, legend=smile)"
   ]
  },
  {
   "cell_type": "markdown",
   "metadata": {
    "id": "sGI-IgXz4LGe"
   },
   "source": [
    "例えば、次のような部分構造パターンを検索したいとします。"
   ]
  },
  {
   "cell_type": "code",
   "execution_count": null,
   "metadata": {
    "colab": {
     "base_uri": "https://localhost:8080/",
     "height": 317
    },
    "id": "mDWOwqOdNEVK",
    "outputId": "bff81ff4-a288-4f9b-e868-bc4d230291cc"
   },
   "outputs": [],
   "source": [
    "# 検索したい部分構造パターン\n",
    "smart = 'CNC'\n",
    "patt = Chem.MolFromSmarts(smart)\n",
    "Draw.MolToImage(patt, legend=smart)"
   ]
  },
  {
   "cell_type": "markdown",
   "metadata": {
    "id": "WOon43P94Uzc"
   },
   "source": [
    "次のようにすれば、指定した分子中で見つかったパターンのうち最初のものの原子IDが得られます。"
   ]
  },
  {
   "cell_type": "code",
   "execution_count": null,
   "metadata": {
    "colab": {
     "base_uri": "https://localhost:8080/"
    },
    "id": "i9r4FxRIMyJ6",
    "outputId": "2405e769-5855-4365-9a73-6fc10766f8b7"
   },
   "outputs": [],
   "source": [
    "# 指定した分子中で見つかったパターンのうち最初のもの\n",
    "mol.GetSubstructMatch(patt)"
   ]
  },
  {
   "cell_type": "markdown",
   "metadata": {
    "id": "aLVU5FsSCym2"
   },
   "source": [
    "その原子IDをハイライトした分子構造を図示してみましょう。"
   ]
  },
  {
   "cell_type": "code",
   "execution_count": null,
   "metadata": {
    "colab": {
     "base_uri": "https://localhost:8080/",
     "height": 371
    },
    "id": "etoMciVDqUOJ",
    "outputId": "bf445226-16ac-4589-c964-5a8aee573daf"
   },
   "outputs": [],
   "source": [
    "# 指定した原子をハイライトしたい\n",
    "from IPython.display import SVG\n",
    "from rdkit.Chem.Draw import rdMolDraw2D\n",
    "\n",
    "view = rdMolDraw2D.MolDraw2DSVG(300,350)\n",
    "view.SetFontSize(0.9 * view.FontSize())\n",
    "tm = rdMolDraw2D.PrepareMolForDrawing(mol)\n",
    "option = view.drawOptions()\n",
    "option.multipleBondOffset=0.07\n",
    "option.padding=0.11\n",
    "option.legendFontSize=20\n",
    "view.DrawMolecule(tm,\n",
    "                  highlightAtoms=mol.GetSubstructMatch(patt),\n",
    "                  #highlightAtomColors=colors,\n",
    "                  #highlightAtomRadii=radii,\n",
    "                  legend=str(mol.GetSubstructMatch(patt))\n",
    "                  )\n",
    "view.FinishDrawing()\n",
    "# 描画\n",
    "svg = view.GetDrawingText()\n",
    "SVG(svg)"
   ]
  },
  {
   "cell_type": "markdown",
   "metadata": {
    "id": "tKKM8NDzDRmI"
   },
   "source": [
    "次のようにすれば、指定した分子中で見つかったパターン全部の原子IDが得られます。"
   ]
  },
  {
   "cell_type": "code",
   "execution_count": null,
   "metadata": {
    "colab": {
     "base_uri": "https://localhost:8080/"
    },
    "id": "uslSQufZM1nA",
    "outputId": "4c2e2d25-79db-4ca7-b092-2ffc01339c2a"
   },
   "outputs": [],
   "source": [
    "# 指定した分子中で見つかったパターン全部\n",
    "mol.GetSubstructMatches(patt)"
   ]
  },
  {
   "cell_type": "markdown",
   "metadata": {
    "id": "9Lq2y2weDXSI"
   },
   "source": [
    "その原子IDをハイライトした分子構造を図示してみましょう。"
   ]
  },
  {
   "cell_type": "code",
   "execution_count": null,
   "metadata": {
    "colab": {
     "base_uri": "https://localhost:8080/",
     "height": 301
    },
    "id": "fVMyulgXrxck",
    "outputId": "9ed5fd5a-a313-4338-d807-beecdfc5926d"
   },
   "outputs": [],
   "source": [
    "# 指定した原子をハイライトしたい\n",
    "matches = mol.GetSubstructMatches(patt)\n",
    "tm = rdMolDraw2D.PrepareMolForDrawing(mol)\n",
    "yoko = 640\n",
    "tate = 280\n",
    "n_col = 4\n",
    "n_row = 2\n",
    "view = rdMolDraw2D.MolDraw2DSVG(\n",
    "    yoko,\n",
    "    tate,\n",
    "    int(yoko / n_col * 0.9),\n",
    "    int(tate / n_row * 0.9)\n",
    "    )\n",
    "\n",
    "view.DrawMolecules([tm]*len(matches),\n",
    "                   highlightAtoms=matches, \n",
    "                   legends=[\",\".join([str(n) for n in match]) for match in matches]\n",
    "                   )\n",
    "# 描画\n",
    "view.FinishDrawing()\n",
    "svg = view.GetDrawingText()\n",
    "SVG(svg)"
   ]
  },
  {
   "cell_type": "markdown",
   "metadata": {
    "id": "uggMaqL3D4Sr"
   },
   "source": [
    "今度は、次のような部分構造パターンを、データベース中から検索することを考えてみましょう。"
   ]
  },
  {
   "cell_type": "code",
   "execution_count": null,
   "metadata": {
    "colab": {
     "base_uri": "https://localhost:8080/",
     "height": 317
    },
    "id": "Djrz8ivnDv31",
    "outputId": "83e416a5-5130-40c0-fde9-4a32bc206381"
   },
   "outputs": [],
   "source": [
    "# 検索したい部分構造パターン\n",
    "smart = 'c1ccc2[nH]ccc2c1'\n",
    "patt = Chem.MolFromSmarts(smart)\n",
    "Draw.MolToImage(patt, legend=smart)"
   ]
  },
  {
   "cell_type": "markdown",
   "metadata": {
    "id": "hjzzYEfrED2r"
   },
   "source": [
    "そのような部分構造を含む分子が、df で指定されたデータベース中に何個あるか数えてみます。"
   ]
  },
  {
   "cell_type": "code",
   "execution_count": null,
   "metadata": {
    "colab": {
     "base_uri": "https://localhost:8080/"
    },
    "id": "aaV8xk6CM6hn",
    "outputId": "f4822730-5c98-43f1-eacf-db603464bff0"
   },
   "outputs": [],
   "source": [
    "mols = []\n",
    "for smile, id in zip(df['Open Babel SMILES'], df['PCCDB-ID']):\n",
    "    mol = Chem.MolFromSmiles(smile)\n",
    "    mol.SetProp(\"_Name\", str(id))\n",
    "    if mol.HasSubstructMatch(patt): # パターンを含む分子のみ mols に格納する\n",
    "        mols.append(mol)\n",
    "\n",
    "len(mols) # 格納された分子の数"
   ]
  },
  {
   "cell_type": "markdown",
   "metadata": {
    "id": "KzH9CS0tEm-W"
   },
   "source": [
    "得られた分子とその部分構造を図示します。"
   ]
  },
  {
   "cell_type": "code",
   "execution_count": null,
   "metadata": {
    "colab": {
     "base_uri": "https://localhost:8080/",
     "height": 657
    },
    "id": "Zckme-F0Nphb",
    "outputId": "8ce9bde8-c43e-4f8b-a4b9-145388971ae6"
   },
   "outputs": [],
   "source": [
    "# 描画\n",
    "matches = [mol.GetSubstructMatches(patt)[0] for mol in mols]\n",
    "\n",
    "Draw.MolsToGridImage(\n",
    "    mols,\n",
    "    molsPerRow=5,\n",
    "    subImgSize=(160, 160),\n",
    "    highlightAtomLists=matches,\n",
    "    legends=[x.GetProp(\"_Name\") for x in mols]\n",
    "             )"
   ]
  },
  {
   "cell_type": "markdown",
   "metadata": {
    "id": "iIKHvLEVE55v"
   },
   "source": [
    "以上のようにして得られた分子は、慣れれば、どの部分構造がどう共通しているかが分かりやすいかもしれませんが、部分構造の形状によっては、よく見ないと、どこが共通構造なのか分かりにくい場合もあります。そこで、できるだけ見やすくなるように、部分構造が描画される向きをできるだけ揃えるような図示の仕方をしてみましょう。"
   ]
  },
  {
   "cell_type": "code",
   "execution_count": null,
   "metadata": {
    "colab": {
     "base_uri": "https://localhost:8080/",
     "height": 657
    },
    "id": "CdQy-LebSXsD",
    "outputId": "b776437f-1cf9-4b68-a19a-3c15fa042e11"
   },
   "outputs": [],
   "source": [
    "# 指定した部分構造の向きを揃えて描画したい\n",
    "from rdkit.Chem import AllChem\n",
    "\n",
    "mols = []\n",
    "AllChem.Compute2DCoords(patt) # 部分構造の2D座標を計算する\n",
    "for smile, id in zip(df['Open Babel SMILES'], df['PCCDB-ID']):\n",
    "    mol = Chem.MolFromSmiles(smile)\n",
    "    mol.SetProp(\"_Name\", str(id))\n",
    "    if mol.HasSubstructMatch(patt): # パターンを含む分子のみ mols に格納する\n",
    "        AllChem.GenerateDepictionMatching2DStructure(mol, patt) # 向きを揃える\n",
    "        mols.append(mol)\n",
    "\n",
    "matches = [mol.GetSubstructMatches(patt)[0] for mol in mols]\n",
    "\n",
    "len(mols) # 格納された分子の数\n",
    "\n",
    "# 描画\n",
    "Draw.MolsToGridImage(\n",
    "    mols[x_start:x_end],\n",
    "    molsPerRow=5,\n",
    "    subImgSize=(160, 160),\n",
    "    highlightAtomLists=matches,\n",
    "    legends=[x.GetProp(\"_Name\") for x in mols]\n",
    "             )"
   ]
  },
  {
   "cell_type": "markdown",
   "metadata": {
    "id": "M71dUdFjR69z"
   },
   "source": [
    "## 部分構造検索の注意点\n",
    "\n",
    "部分構造検索には、ちょっとした（重要な）注意点があります。たとえば次のような部分構造を考えてみましょう。"
   ]
  },
  {
   "cell_type": "code",
   "execution_count": null,
   "metadata": {
    "colab": {
     "base_uri": "https://localhost:8080/",
     "height": 317
    },
    "id": "US7XdackHPQw",
    "outputId": "66e9fcf0-d719-4fb7-c9e4-64182f2e8b40"
   },
   "outputs": [],
   "source": [
    "# 検索したい部分構造パターン\n",
    "smart = 'c1ccccc1'\n",
    "patt = Chem.MolFromSmarts(smart)\n",
    "Draw.MolToImage(patt, legend=smart)"
   ]
  },
  {
   "cell_type": "markdown",
   "metadata": {
    "id": "v4opzp0gHgLW"
   },
   "source": [
    "これを SMARTS 文字列として検索すると"
   ]
  },
  {
   "cell_type": "code",
   "execution_count": null,
   "metadata": {
    "colab": {
     "base_uri": "https://localhost:8080/"
    },
    "id": "toABgG9QNtAv",
    "outputId": "ad722088-7360-43a7-ebdd-e5be093a8b92"
   },
   "outputs": [],
   "source": [
    "ids1 = []\n",
    "patt = Chem.MolFromSmarts('c1ccccc1') # SMARTSを使ったパターン\n",
    "for smile, id in zip(df['Open Babel SMILES'], df['PCCDB-ID']):\n",
    "    mol = Chem.MolFromSmiles(smile)\n",
    "    mol.SetProp(\"_Name\", str(id))\n",
    "    if mol.HasSubstructMatch(patt):\n",
    "        ids1.append(id)\n",
    "\n",
    "print(len(ids1))"
   ]
  },
  {
   "cell_type": "markdown",
   "metadata": {
    "id": "E5sgyjnCHkRs"
   },
   "source": [
    "これを SMILES 文字列として検索すると"
   ]
  },
  {
   "cell_type": "code",
   "execution_count": null,
   "metadata": {
    "colab": {
     "base_uri": "https://localhost:8080/"
    },
    "id": "IfseiYKKN8_F",
    "outputId": "c70506f6-5a6c-4558-97d3-c1ae6f0f2e9e"
   },
   "outputs": [],
   "source": [
    "ids2 = []\n",
    "patt = Chem.MolFromSmiles('c1ccccc1') # SMILESを使ったパターン\n",
    "for smile, id in zip(df['Open Babel SMILES'], df['PCCDB-ID']):\n",
    "    mol = Chem.MolFromSmiles(smile)\n",
    "    mol.SetProp(\"_Name\", str(id))\n",
    "    if mol.HasSubstructMatch(patt):\n",
    "        ids2.append(id)\n",
    "\n",
    "print(len(ids2))"
   ]
  },
  {
   "cell_type": "markdown",
   "metadata": {
    "id": "6bKd4Ui9HwsD"
   },
   "source": [
    "両者の違いは何でしょうか？"
   ]
  },
  {
   "cell_type": "code",
   "execution_count": null,
   "metadata": {
    "colab": {
     "base_uri": "https://localhost:8080/"
    },
    "id": "422lbu1GODi9",
    "outputId": "750261c2-eab5-4b63-96b0-8eea0430149a"
   },
   "outputs": [],
   "source": [
    "set(ids1) - set(ids2) # SMARTSとSMILESで結果が異なることがある"
   ]
  },
  {
   "cell_type": "markdown",
   "metadata": {
    "id": "-L2Tp4I2H58d"
   },
   "source": [
    "上記のIDの分子が、SMARTSとSMILESで結果が異なる分子ということです。"
   ]
  },
  {
   "cell_type": "code",
   "execution_count": null,
   "metadata": {
    "colab": {
     "base_uri": "https://localhost:8080/",
     "height": 334
    },
    "id": "l5jV6MDQOz13",
    "outputId": "4264f352-3e8e-40f0-d812-d87ce42c185d"
   },
   "outputs": [],
   "source": [
    "# 結果が異なる例を表示\n",
    "for id in set(ids1) - set(ids2):\n",
    "    smile = list(df[df['PCCDB-ID'] == id]['Open Babel SMILES'])[0]\n",
    "    print(smile)\n",
    "    mol = Chem.MolFromSmiles(smile)\n",
    "    display(Draw.MolToImage(mol))"
   ]
  },
  {
   "cell_type": "markdown",
   "metadata": {
    "id": "BV1z805kIQWZ"
   },
   "source": [
    "この分子中の環構造の一つが、SMILESとSMARTSで判定が異なるということですね。芳香族判定は部分構造検索で意図した結果にならない場合がよくあります。それ以外の場合でも、意図した部分構造がきちんと取れているかどうかのチェックは大事です。"
   ]
  },
  {
   "cell_type": "markdown",
   "metadata": {
    "id": "uDvB4q7wSP15"
   },
   "source": [
    "## 部分構造検索における立体化学\n",
    "\n",
    "部分構造検索では立体化学も考慮できます。次の２つの結果を比較してみましょう。"
   ]
  },
  {
   "cell_type": "code",
   "execution_count": null,
   "metadata": {
    "colab": {
     "base_uri": "https://localhost:8080/",
     "height": 234
    },
    "id": "_VDnqTYKPXI5",
    "outputId": "9a2247bd-b786-4af1-90ca-a890df4706f4"
   },
   "outputs": [],
   "source": [
    "mols = []\n",
    "patt = Chem.MolFromSmiles('C[C@H](N)CO')\n",
    "for smile, id in zip(df['Open Babel SMILES'], df['PCCDB-ID']):\n",
    "    mol = Chem.MolFromSmiles(smile)\n",
    "    mol.SetProp(\"_Name\", str(id))\n",
    "    if mol.HasSubstructMatch(patt, useChirality=True): # useChirality=True\n",
    "        mols.append(mol)\n",
    "\n",
    "print(len(mols))\n",
    "\n",
    "x_start = 0\n",
    "x_end = 5\n",
    "Draw.MolsToGridImage(\n",
    "    mols[x_start:x_end],\n",
    "    molsPerRow=5,\n",
    "    subImgSize=(200,200),\n",
    "    legends=[x.GetProp(\"_Name\") for x in mols[x_start:x_end]]\n",
    "             )"
   ]
  },
  {
   "cell_type": "code",
   "execution_count": null,
   "metadata": {
    "colab": {
     "base_uri": "https://localhost:8080/",
     "height": 234
    },
    "id": "PhjgoeiHQIzB",
    "outputId": "dcbc9d41-cb39-4955-bcc5-5c26f7fb56d2"
   },
   "outputs": [],
   "source": [
    "mols = []\n",
    "patt = Chem.MolFromSmiles('C[C@@H](N)CO')\n",
    "for smile, id in zip(df['Open Babel SMILES'], df['PCCDB-ID']):\n",
    "    mol = Chem.MolFromSmiles(smile)\n",
    "    mol.SetProp(\"_Name\", str(id))\n",
    "    if mol.HasSubstructMatch(patt, useChirality=True): # useChirality=True\n",
    "        mols.append(mol)\n",
    "\n",
    "print(len(mols))\n",
    "\n",
    "x_start = 0\n",
    "x_end = 5\n",
    "Draw.MolsToGridImage(\n",
    "    mols[x_start:x_end],\n",
    "    molsPerRow=5,\n",
    "    subImgSize=(200,200),\n",
    "    legends=[x.GetProp(\"_Name\") for x in mols[x_start:x_end]]\n",
    "             )"
   ]
  },
  {
   "cell_type": "markdown",
   "metadata": {
    "id": "jAZwV6ZAZ4dp"
   },
   "source": [
    "# ３D構造の生成\n",
    "\n",
    "ここまで扱ってきた化学構造は、二次元構造です。つまり、描画のためのXY座標は計算されてありますが、あくまで描画のための２次元座標であって、Z座標は計算されていません（Z座標を記述する場所は設けられているのですが全てゼロになっています）。例を見てみましょう。"
   ]
  },
  {
   "cell_type": "code",
   "execution_count": null,
   "metadata": {
    "colab": {
     "base_uri": "https://localhost:8080/",
     "height": 317
    },
    "id": "VKHhnxVrWZX-",
    "outputId": "d4040ed4-d8bf-4681-fcae-5517c027515d"
   },
   "outputs": [],
   "source": [
    "from rdkit.Chem import Draw\n",
    "\n",
    "smile = df['Open Babel SMILES'][0]\n",
    "mol = Chem.MolFromSmiles(smile)\n",
    "mol.SetProp(\"_Name\", smile)\n",
    "\n",
    "# ノートブック上に描画\n",
    "Draw.MolToImage(mol, legend=mol.GetProp(\"_Name\"))"
   ]
  },
  {
   "cell_type": "markdown",
   "metadata": {
    "id": "eNKZjNp6SpBt"
   },
   "source": [
    "Z座標が全てゼロであることを確認してください。"
   ]
  },
  {
   "cell_type": "code",
   "execution_count": null,
   "metadata": {
    "colab": {
     "base_uri": "https://localhost:8080/"
    },
    "id": "ktbkBgBvWd2f",
    "outputId": "b8df8016-cfea-41bf-e6f6-86998707658b"
   },
   "outputs": [],
   "source": [
    "print(Chem.MolToMolBlock(mol))"
   ]
  },
  {
   "cell_type": "markdown",
   "metadata": {
    "id": "vNyTe-LdSw3C"
   },
   "source": [
    "次のように、「水素原子を明示する」→「三次元化する」→「水素原子を省略する」という手順を踏むことで、三次元座標を計算することができます。"
   ]
  },
  {
   "cell_type": "code",
   "execution_count": null,
   "metadata": {
    "colab": {
     "base_uri": "https://localhost:8080/"
    },
    "id": "SVgT9fNFVjGG",
    "outputId": "86b34dcd-d0f5-4121-f621-b071bb1b4f54"
   },
   "outputs": [],
   "source": [
    "mol = Chem.AddHs(mol)\n",
    "AllChem.EmbedMolecule(mol)\n",
    "mol = Chem.RemoveHs(mol)\n",
    "print(Chem.MolToMolBlock(mol))"
   ]
  },
  {
   "cell_type": "markdown",
   "metadata": {
    "id": "-h1lMEuAcYXn"
   },
   "source": [
    "# 3Dの描画\n",
    "\n",
    "以上のようにして三次元座標を計算した分子を見てみましょう。ここでは py3Dmol を使います。\n",
    "\n",
    "参考記事：https://future-chem.com/py3dmol/"
   ]
  },
  {
   "cell_type": "code",
   "execution_count": null,
   "metadata": {
    "colab": {
     "base_uri": "https://localhost:8080/"
    },
    "id": "OBmZYqrrXEz1",
    "outputId": "18b753a5-8666-4d5f-bd88-fba0a7232fe9"
   },
   "outputs": [],
   "source": [
    "!pip install py3Dmol"
   ]
  },
  {
   "cell_type": "markdown",
   "metadata": {
    "id": "48pLof4YT73h"
   },
   "source": [
    "次のようにすると、３次元空間中の分子をぐるぐる弄ぶことができます。"
   ]
  },
  {
   "cell_type": "code",
   "execution_count": null,
   "metadata": {
    "colab": {
     "base_uri": "https://localhost:8080/",
     "height": 417
    },
    "id": "CC4If__QYHrs",
    "outputId": "543bf4a3-a38a-46e2-ce1d-a4c963799113"
   },
   "outputs": [],
   "source": [
    "import py3Dmol\n",
    "from rdkit.Chem.Draw import IPythonConsole\n",
    "\n",
    "view = py3Dmol.view(width=600, height=400, linked=False, viewergrid=(1,1))\n",
    "view.addModel(Chem.MolToMolBlock(mol), 'sdf', {'keepH': False})\n",
    "view.setStyle({'stick': {}}, viewer=(0, 0))\n",
    "#view.setStyle({'sphere': {}}, viewer=(0, 0))\n",
    "#view.setStyle({'line': {'linewidth': 50}}, viewer=(0,0))\n",
    "view.setBackgroundColor('#000000', viewer=(0,0))\n",
    "view.show()"
   ]
  },
  {
   "cell_type": "markdown",
   "metadata": {
    "id": "aQ7Uryr5UTfE"
   },
   "source": [
    "描画方法は次のようにいろいろあります。弄びましょう。"
   ]
  },
  {
   "cell_type": "code",
   "execution_count": null,
   "metadata": {
    "colab": {
     "base_uri": "https://localhost:8080/",
     "height": 417
    },
    "id": "0c3ypPQoYwR3",
    "outputId": "b87f34f3-f414-4585-b525-31afcd277312"
   },
   "outputs": [],
   "source": [
    "mols = [] # 複数の RDKit Mol を格納するリスト\n",
    "for smile, id in zip(df['Open Babel SMILES'], df['PCCDB-ID']):\n",
    "    mol = Chem.MolFromSmiles(smile) # SMILES　を　RDKit Mol　に変換\n",
    "    mol.SetProp(\"_Name\", str(id)) # 名前をつける\n",
    "    mols.append(mol) # リストに格納する\n",
    "    \n",
    "add_mols = []\n",
    "for m in mols[:6]:\n",
    "    m_h = Chem.AddHs(m)\n",
    "    AllChem.EmbedMolecule(m_h, AllChem.ETKDGv2())\n",
    "    add_mols.append(m_h)\n",
    "color_scheme = ['cyanCarbon', 'blackCarbon', 'ssPyMOL', 'ssJmol', 'Jmol', 'default']\n",
    "view = py3Dmol.view(width=680, height=400, viewergrid=(2,3), linked=False)\n",
    "for (n, (i,j)), c in zip(enumerate([(a,b) for a in range(2) for b in range(3)]), color_scheme):\n",
    "    mb = Chem.MolToMolBlock(add_mols[n])\n",
    "    view.addModel(mb, 'sdf', {'keepH': False}, viewer=(i,j))\n",
    "    view.setStyle({'stick': {'colorscheme': c}}, viewer=(i,j))\n",
    "view.zoomTo()\n",
    "view.show()"
   ]
  },
  {
   "cell_type": "markdown",
   "metadata": {
    "id": "BUpa4O4HXkot"
   },
   "source": [
    "# Recap\n",
    "\n",
    "Recapは、実験室でよく使われる反応を模倣した化学変換のセットを使って、分子を一連の合理的なフラグメントに分解します。\n",
    "\n",
    "Lewell, X.Q.; Judd, D.B.; Watson, S.P.; Hann, M.M. “RECAP-Retrosynthetic Combinatorial Analysis Procedure: A Powerful New Technique for Identifying Privileged Molecular Fragments with Useful Applications in Combinatorial Chemistry” J. Chem. Inf. Comp. Sci. 38:511-22 (1998)."
   ]
  },
  {
   "cell_type": "markdown",
   "metadata": {
    "id": "6Mhk2w7qUzNK"
   },
   "source": [
    "例として次の分子を用いて、Recap の挙動を確認してみましょう。"
   ]
  },
  {
   "cell_type": "code",
   "execution_count": null,
   "metadata": {
    "colab": {
     "base_uri": "https://localhost:8080/",
     "height": 334
    },
    "id": "QZlAqTc1YYc8",
    "outputId": "dc26a120-5a95-4f6d-d17e-eaa15b0a24a5"
   },
   "outputs": [],
   "source": [
    "smile = df['Open Babel SMILES'][0]\n",
    "print(smile)\n",
    "mol = Chem.MolFromSmiles(smile)\n",
    "Draw.MolToImage(mol)"
   ]
  },
  {
   "cell_type": "markdown",
   "metadata": {
    "id": "mJXmrva3U7x9"
   },
   "source": [
    "次のようにしてフラグメントに分解します。"
   ]
  },
  {
   "cell_type": "code",
   "execution_count": null,
   "metadata": {
    "colab": {
     "base_uri": "https://localhost:8080/"
    },
    "id": "i5wwnuUAXRzr",
    "outputId": "cc3feeb2-f467-44d3-b0ad-21512a93335a"
   },
   "outputs": [],
   "source": [
    "from rdkit.Chem import Recap\n",
    "\n",
    "# Recap アルゴリズムによる化学フラグメント分解\n",
    "hierarch = Recap.RecapDecompose(mol)\n",
    "ks = hierarch.children\n",
    "ks"
   ]
  },
  {
   "cell_type": "markdown",
   "metadata": {
    "id": "KRpljed9U_vi"
   },
   "source": [
    "得られたフラグメントは次のようにして図示できます。"
   ]
  },
  {
   "cell_type": "code",
   "execution_count": null,
   "metadata": {
    "colab": {
     "base_uri": "https://localhost:8080/",
     "height": 217
    },
    "id": "oLLBlN2sXxqi",
    "outputId": "1e4a4de4-15ff-4b6b-add0-f0b92f68e057"
   },
   "outputs": [],
   "source": [
    "# 得られたフラグメントの描画\n",
    "Draw.MolsToGridImage(\n",
    "    [Chem.MolFromSmiles(k) for k in ks.keys()],\n",
    "    molsPerRow=5,\n",
    "    subImgSize=(200,200),\n",
    "    legends=list(ks.keys())\n",
    "             )"
   ]
  },
  {
   "cell_type": "markdown",
   "metadata": {
    "id": "EBChUCSBZoZ1"
   },
   "source": [
    "# BRICS\n",
    "\n",
    "BRICSは合成的に利用可能な結合に沿って分子をフラグメント化するもう一つの方法です\n",
    "\n",
    "Degen, J.; Wegscheid-Gerlach, C.; Zaliani, A; Rarey, M. \"On the Art of Compiling and Using ‘Drug-Like’ Chemical Fragment Spaces.\" ChemMedChem 3:1503–7 (2008)\n",
    "\n",
    "同じ分子をこの方法でフラグメント化してみましょう。."
   ]
  },
  {
   "cell_type": "code",
   "execution_count": null,
   "metadata": {
    "colab": {
     "base_uri": "https://localhost:8080/",
     "height": 217
    },
    "id": "S4hzsiqPYoJ3",
    "outputId": "ea2c9788-67bc-4448-ce8b-951d3dc14b9a"
   },
   "outputs": [],
   "source": [
    "from rdkit.Chem import BRICS\n",
    "\n",
    "# BRICS アルゴリズムによる化学フラグメント分解\n",
    "fragments = BRICS.BRICSDecompose(mol)\n",
    "\n",
    "# 得られたフラグメントの描画\n",
    "Draw.MolsToGridImage(\n",
    "    [Chem.MolFromSmiles(k) for k in list(fragments)],\n",
    "    molsPerRow=5,\n",
    "    subImgSize=(200,200),\n",
    "    legends=list(fragments)\n",
    "             )"
   ]
  },
  {
   "cell_type": "markdown",
   "metadata": {
    "id": "YNxSiYB9AT9F"
   },
   "source": [
    "分子の集合に対して全てのフラグメントのリストを生成することがとても簡単にできます"
   ]
  },
  {
   "cell_type": "code",
   "execution_count": null,
   "metadata": {
    "colab": {
     "base_uri": "https://localhost:8080/",
     "height": 417
    },
    "id": "9Bd2DVSWZuwr",
    "outputId": "aa8ee646-1522-4cf1-bf38-19ad73541c42"
   },
   "outputs": [],
   "source": [
    "# フラグメント化したい分子の集合を作る\n",
    "mols = []\n",
    "for smile, id in zip(df['Open Babel SMILES'], df['PCCDB-ID']):\n",
    "    mol = Chem.MolFromSmiles(smile)\n",
    "    mol.SetProp(\"_Name\", str(id))\n",
    "    mols.append(mol)\n",
    "\n",
    "x_start = 0\n",
    "x_end = 10\n",
    "Draw.MolsToGridImage(\n",
    "    mols[x_start:x_end],\n",
    "    molsPerRow=5,\n",
    "    subImgSize=(200,200),\n",
    "    legends=[x.GetProp(\"_Name\") for x in mols[x_start:x_end]]\n",
    "             )"
   ]
  },
  {
   "cell_type": "code",
   "execution_count": null,
   "metadata": {
    "colab": {
     "base_uri": "https://localhost:8080/",
     "height": 834
    },
    "id": "VfexQ3D-a2Xm",
    "outputId": "4c595be7-c0a3-465e-9cea-fa9b60335087"
   },
   "outputs": [],
   "source": [
    "# 分子の集合から、フラグメントの集合を得る\n",
    "allfrags=set()\n",
    "for mol in mols[x_start:x_end]:\n",
    "    fragment = BRICS.BRICSDecompose(mol)\n",
    "    allfrags.update(fragment)\n",
    "\n",
    "print(len(allfrags)) # 得られたフラグメントの数\n",
    "\n",
    "# フラグメントの集合の描画\n",
    "Draw.MolsToGridImage(\n",
    "    [Chem.MolFromSmiles(f) for f in allfrags],\n",
    "    molsPerRow=5,\n",
    "    subImgSize=(200,200),\n",
    "    legends=list(allfrags)\n",
    "             )"
   ]
  },
  {
   "cell_type": "code",
   "execution_count": null,
   "metadata": {
    "colab": {
     "base_uri": "https://localhost:8080/",
     "height": 1000
    },
    "id": "zuCNF85IbYTF",
    "outputId": "5de7e389-982f-4b37-cc22-0bee45a4f1c9"
   },
   "outputs": [],
   "source": [
    "# フラグメントの集合にBRICSのルールを適用して新しい分子を生成する\n",
    "fragms = [Chem.MolFromSmiles(x) for x in allfrags]\n",
    "\n",
    "products = []\n",
    "for mol in BRICS.BRICSBuild(fragms):\n",
    "    mol.UpdatePropertyCache(strict=False)\n",
    "    products.append(mol)\n",
    "    if len(products) >= 25:\n",
    "        break\n",
    "\n",
    "# 得られた新しい分子の描画\n",
    "Draw.MolsToGridImage(\n",
    "    products,\n",
    "    molsPerRow=5,\n",
    "    subImgSize=(200,200),\n",
    "    legends=[Chem.MolToSmiles(mol) for mol in products]\n",
    "             )"
   ]
  },
  {
   "cell_type": "markdown",
   "metadata": {
    "id": "g9OGueYDJ0E1"
   },
   "source": [
    "# 分子ごとの化学記述子\n",
    "\n",
    "ここまで、分子構造を取り扱ってきましたが、機械学習などで取り扱うためには、分子を「数字の集合」として表現した方が取り扱いやすくなります。そのための方法として「化学記述子」があります。これには、分子ごとの化学記述子と、原子や結合ごとの化学記述子とがあります（普通は、化学記述子といえば分子ごとの化学記述子を指すことが多いようです）。まずは分子ごとの化学記述子を見ていきましょう。例として、この分子を取り扱います。"
   ]
  },
  {
   "cell_type": "code",
   "execution_count": null,
   "metadata": {
    "colab": {
     "base_uri": "https://localhost:8080/",
     "height": 334
    },
    "id": "6VZmPGRJJ4LL",
    "outputId": "aa635390-9ee7-42d5-b7ba-f1ba8ec4f1ef"
   },
   "outputs": [],
   "source": [
    "smile = df['Open Babel SMILES'][0]\n",
    "print(smile)\n",
    "mol = Chem.MolFromSmiles(smile)\n",
    "Draw.MolToImage(mol)"
   ]
  },
  {
   "cell_type": "markdown",
   "metadata": {
    "id": "FfnxeFvNXmVy"
   },
   "source": [
    "トポロジカル極性表面積"
   ]
  },
  {
   "cell_type": "code",
   "execution_count": null,
   "metadata": {
    "colab": {
     "base_uri": "https://localhost:8080/"
    },
    "id": "XK5qLF6iJ7QN",
    "outputId": "b512da92-767e-43e8-a96b-042487ca1e2f"
   },
   "outputs": [],
   "source": [
    "from rdkit.Chem import Descriptors\n",
    "Descriptors.TPSA(mol)"
   ]
  },
  {
   "cell_type": "markdown",
   "metadata": {
    "id": "pcM7CUjQXxCQ"
   },
   "source": [
    "Crippenらによる原子ベースのLogP指標"
   ]
  },
  {
   "cell_type": "code",
   "execution_count": null,
   "metadata": {
    "colab": {
     "base_uri": "https://localhost:8080/"
    },
    "id": "TTtenbEtJ9_t",
    "outputId": "881e2fe5-d69d-4505-8688-f70161736b7a"
   },
   "outputs": [],
   "source": [
    "from rdkit.Chem import Descriptors\n",
    "Descriptors.MolLogP(mol)"
   ]
  },
  {
   "cell_type": "markdown",
   "metadata": {
    "id": "sI7BAYKEX-P4"
   },
   "source": [
    "分子量"
   ]
  },
  {
   "cell_type": "code",
   "execution_count": null,
   "metadata": {
    "colab": {
     "base_uri": "https://localhost:8080/"
    },
    "id": "-Y_07Jc4CcJZ",
    "outputId": "2f69210a-c8d2-4a94-a029-9df1fb21e028"
   },
   "outputs": [],
   "source": [
    "from rdkit.Chem import Descriptors\n",
    "Descriptors.MolWt(mol)"
   ]
  },
  {
   "cell_type": "markdown",
   "metadata": {
    "id": "L4TdiHjQYnmG"
   },
   "source": [
    "非水素原子の数"
   ]
  },
  {
   "cell_type": "code",
   "execution_count": null,
   "metadata": {
    "colab": {
     "base_uri": "https://localhost:8080/"
    },
    "id": "thXZ4oOeCu9O",
    "outputId": "01a74d65-ee3d-4dc1-e1ec-e7c3c70b4aac"
   },
   "outputs": [],
   "source": [
    "from rdkit.Chem import Descriptors\n",
    "Descriptors.HeavyAtomCount(mol)"
   ]
  },
  {
   "cell_type": "markdown",
   "metadata": {
    "id": "7I0y1DgVYsgm"
   },
   "source": [
    "水素結合アクセプターの数"
   ]
  },
  {
   "cell_type": "code",
   "execution_count": null,
   "metadata": {
    "colab": {
     "base_uri": "https://localhost:8080/"
    },
    "id": "KlomW4VrC4oB",
    "outputId": "c6d8f8c6-2d51-4d04-d03e-b15d945a6c12"
   },
   "outputs": [],
   "source": [
    "from rdkit.Chem import Descriptors\n",
    "Descriptors.NumHAcceptors(mol)"
   ]
  },
  {
   "cell_type": "markdown",
   "metadata": {
    "id": "2fDGNUGEZIfx"
   },
   "source": [
    "水素結合ドナーの数"
   ]
  },
  {
   "cell_type": "code",
   "execution_count": null,
   "metadata": {
    "colab": {
     "base_uri": "https://localhost:8080/"
    },
    "id": "7bWcIFKNC-Wc",
    "outputId": "a751a196-8122-4852-edf2-094ba5ef90f1"
   },
   "outputs": [],
   "source": [
    "from rdkit.Chem import Descriptors\n",
    "Descriptors.NumHDonors(mol)"
   ]
  },
  {
   "cell_type": "markdown",
   "metadata": {
    "id": "KcG7WVXEZNs1"
   },
   "source": [
    "へテロ元素の数"
   ]
  },
  {
   "cell_type": "code",
   "execution_count": null,
   "metadata": {
    "colab": {
     "base_uri": "https://localhost:8080/"
    },
    "id": "zNy_9w3tDChU",
    "outputId": "e4257c7a-83bd-4ce8-c052-8acd57c9aa24"
   },
   "outputs": [],
   "source": [
    "from rdkit.Chem import Descriptors\n",
    "Descriptors.NumHeteroatoms(mol)"
   ]
  },
  {
   "cell_type": "markdown",
   "metadata": {
    "id": "E2p94zT4ZTPN"
   },
   "source": [
    "回転可能な結合数"
   ]
  },
  {
   "cell_type": "code",
   "execution_count": null,
   "metadata": {
    "colab": {
     "base_uri": "https://localhost:8080/"
    },
    "id": "1wZtoWq8DH1D",
    "outputId": "2c491c49-bf64-4374-c1f4-89b65249acfd"
   },
   "outputs": [],
   "source": [
    "from rdkit.Chem import Descriptors\n",
    "Descriptors.NumRotatableBonds(mol)"
   ]
  },
  {
   "cell_type": "markdown",
   "metadata": {
    "id": "Z1PJJWNAZYy_"
   },
   "source": [
    "環の数"
   ]
  },
  {
   "cell_type": "code",
   "execution_count": null,
   "metadata": {
    "colab": {
     "base_uri": "https://localhost:8080/"
    },
    "id": "DBf8NK8MDLLB",
    "outputId": "a3b0e4bc-745b-4ce8-9a97-ccdff1d50ed6"
   },
   "outputs": [],
   "source": [
    "from rdkit.Chem import Descriptors\n",
    "Descriptors.RingCount(mol)"
   ]
  },
  {
   "cell_type": "markdown",
   "metadata": {
    "id": "DM5GkjR_ZlS4"
   },
   "source": [
    "全炭素数におけるsp3炭素の割合"
   ]
  },
  {
   "cell_type": "code",
   "execution_count": null,
   "metadata": {
    "colab": {
     "base_uri": "https://localhost:8080/"
    },
    "id": "Cf_jIJIGDVPU",
    "outputId": "33a75930-ea18-4175-8cea-a8d0d1afc360"
   },
   "outputs": [],
   "source": [
    "from rdkit.Chem import Descriptors\n",
    "Descriptors.FractionCSP3(mol)"
   ]
  },
  {
   "cell_type": "markdown",
   "metadata": {
    "id": "k3GDBj7mZvJC"
   },
   "source": [
    "以上、説明が比較的簡単な記述子について列挙しました。"
   ]
  },
  {
   "cell_type": "markdown",
   "metadata": {
    "id": "uv9bfNBnG06s"
   },
   "source": [
    "## 計算可能な記述子を列挙してマトリクスを作る\n",
    "\n",
    "説明が比較的簡単な記述子から、説明が面倒な記述子まで、全部でいくつあるかリストアップしてみます。"
   ]
  },
  {
   "cell_type": "code",
   "execution_count": null,
   "metadata": {
    "colab": {
     "base_uri": "https://localhost:8080/"
    },
    "id": "CnabRD7eEWSE",
    "outputId": "0285c7cc-cded-41a8-8c36-c623a23983ad"
   },
   "outputs": [],
   "source": [
    "desc_names = [x[0] for x in Descriptors._descList if x[0]]\n",
    "print(desc_names)"
   ]
  },
  {
   "cell_type": "code",
   "execution_count": null,
   "metadata": {
    "colab": {
     "base_uri": "https://localhost:8080/"
    },
    "id": "xHH7mcvLaYWF",
    "outputId": "a64bfabd-87e2-474d-f0af-f8df0345349d"
   },
   "outputs": [],
   "source": [
    "len(desc_names)"
   ]
  },
  {
   "cell_type": "markdown",
   "metadata": {
    "id": "cJHYy7sqaiFy"
   },
   "source": [
    "データベース上の全分子に対してこれらを計算して、マトリックスを作ってみましょう。"
   ]
  },
  {
   "cell_type": "code",
   "execution_count": null,
   "metadata": {
    "colab": {
     "base_uri": "https://localhost:8080/",
     "height": 522
    },
    "id": "zQ4vRhZ3EgKx",
    "outputId": "089cb3f6-3b3c-4b81-9cbb-d3aaf7f410bc"
   },
   "outputs": [],
   "source": [
    "from rdkit.ML.Descriptors import MoleculeDescriptors\n",
    "from rdkit.Chem import MolStandardize\n",
    "from rdkit.Chem.SaltRemover import SaltRemover\n",
    "\n",
    "uc = MolStandardize.charge.Uncharger()\n",
    "remover = SaltRemover(defnData=\"[Cl,Br,Na]\")\n",
    "lfc = MolStandardize.fragment.LargestFragmentChooser()\n",
    "calc = MoleculeDescriptors.MolecularDescriptorCalculator(desc_names)\n",
    "\n",
    "matrix = []\n",
    "for smile, id in zip(df['Open Babel SMILES'], df['PCCDB-ID']):\n",
    "    row = []\n",
    "    row.append(id)\n",
    "    mol = Chem.MolFromSmiles(smile)\n",
    "    mol = uc.uncharge(mol)\n",
    "    mol = remover.StripMol(mol)\n",
    "    mol = lfc.choose(mol)\n",
    "    row.append(Chem.MolToSmiles(mol))\n",
    "    for d in calc.CalcDescriptors(mol):\n",
    "        row.append(d)\n",
    "    matrix.append(row)\n",
    "\n",
    "desc_df = pd.DataFrame(matrix, columns=[\"ID\", \"SMILES\"] + desc_names)\n",
    "desc_df"
   ]
  },
  {
   "cell_type": "markdown",
   "metadata": {
    "id": "PPumV8nlfCT5"
   },
   "source": [
    "# 原子ごとの物理化学的特徴\n",
    "\n",
    "普通は「記述子」と呼ばないかもしれませんが、分子ではなく原子ごとに与えられる特徴量もあります。次の化合物を例にしてみましょう。"
   ]
  },
  {
   "cell_type": "code",
   "execution_count": null,
   "metadata": {
    "colab": {
     "base_uri": "https://localhost:8080/",
     "height": 334
    },
    "id": "NdF8Mb9QfOgO",
    "outputId": "67067bb3-0b0f-45c6-9a2a-507e26dde6e6"
   },
   "outputs": [],
   "source": [
    "smile = df['Open Babel SMILES'][0]\n",
    "print(smile)\n",
    "mol = Chem.MolFromSmiles(smile)\n",
    "Draw.MolToImage(mol)"
   ]
  },
  {
   "cell_type": "markdown",
   "metadata": {
    "id": "Cby7-wCys9DW"
   },
   "source": [
    "その代表例が Gasteiger法を用いた部分電荷 です。"
   ]
  },
  {
   "cell_type": "code",
   "execution_count": null,
   "metadata": {
    "colab": {
     "base_uri": "https://localhost:8080/"
    },
    "id": "rGuxxLC1KATF",
    "outputId": "d1f42841-2efe-4cb7-bffd-e2de3ae16adf"
   },
   "outputs": [],
   "source": [
    "from rdkit.Chem import AllChem\n",
    "\n",
    "AllChem.ComputeGasteigerCharges(mol)\n",
    "for id, atom in enumerate(mol.GetAtoms()):\n",
    "    print(id + 1, atom.GetSymbol(), atom.GetProp('_GasteigerCharge'))"
   ]
  },
  {
   "cell_type": "markdown",
   "metadata": {
    "id": "bTbt7m7NtNw5"
   },
   "source": [
    "薬学の世界では「ファーマコフォア」という概念があります。医薬品のターゲットとの相互作用に必要な特徴を持つ官能基群と、それらの相対的な立体配置も含めた（抽象的な）概念だそうです。RDKitでは次のように計算して取得できます。"
   ]
  },
  {
   "cell_type": "code",
   "execution_count": null,
   "metadata": {
    "colab": {
     "base_uri": "https://localhost:8080/"
    },
    "id": "23u5QL57d2qw",
    "outputId": "61f22bfa-97df-47d7-b17d-121b0680fe4b"
   },
   "outputs": [],
   "source": [
    "import os\n",
    "from rdkit import RDConfig\n",
    "from rdkit.Chem import ChemicalFeatures\n",
    "fdefName = os.path.join(RDConfig.RDDataDir,'BaseFeatures.fdef')\n",
    "factory = ChemicalFeatures.BuildFeatureFactory(fdefName)\n",
    "\n",
    "for i, feat in enumerate(factory.GetFeaturesForMol(mol)):\n",
    "    print(i, feat.GetFamily(), feat.GetType(), feat.GetAtomIds())"
   ]
  },
  {
   "cell_type": "markdown",
   "metadata": {
    "id": "eNDABSY1hwtz"
   },
   "source": [
    "## SASA (solvent accessible surface area)\n",
    "\n",
    "溶媒露出表面積は、分子ごとの記述子として取り扱うことができます。"
   ]
  },
  {
   "cell_type": "code",
   "execution_count": null,
   "metadata": {
    "colab": {
     "base_uri": "https://localhost:8080/"
    },
    "id": "DoCt1m5zgS8C",
    "outputId": "9d5db419-9845-43de-9b8f-1a6d87772a6e"
   },
   "outputs": [],
   "source": [
    "from rdkit.Chem import rdFreeSASA\n",
    "\n",
    "mol = Chem.AddHs(mol)\n",
    "AllChem.EmbedMolecule(mol)\n",
    "\n",
    "radii = rdFreeSASA.classifyAtoms(mol)\n",
    "rdFreeSASA.CalcSASA(mol, radii)"
   ]
  },
  {
   "cell_type": "markdown",
   "metadata": {
    "id": "sBtjTaMot5Yy"
   },
   "source": [
    "次のようにすれば、原子ごとの記述子として取り扱うこともできます。"
   ]
  },
  {
   "cell_type": "code",
   "execution_count": null,
   "metadata": {
    "colab": {
     "base_uri": "https://localhost:8080/"
    },
    "id": "QaqomdKhg3by",
    "outputId": "5177feff-fb2f-4f7c-c101-1a89149aac28"
   },
   "outputs": [],
   "source": [
    "atoms = mol.GetAtoms()\n",
    "for i in range(len(atoms)):\n",
    "    print(i, atoms[i].GetSymbol(), atoms[i].GetProp(\"SASA\"))"
   ]
  },
  {
   "cell_type": "markdown",
   "metadata": {
    "id": "DQ63laQBPlM7"
   },
   "source": [
    "# 2Dファーマコフォアフィンガープリント\n",
    "\n",
    "複数の化学的特徴と、フィーチャー間の2Dの(幾何学的、トポロジカル)距離とを合わせることで2Dファーマコフォアを作成できます。"
   ]
  },
  {
   "cell_type": "code",
   "execution_count": null,
   "metadata": {
    "colab": {
     "base_uri": "https://localhost:8080/"
    },
    "id": "Op4trm1IO7EQ",
    "outputId": "183832af-5050-47e7-f118-a4f0140dd36b"
   },
   "outputs": [],
   "source": [
    "from rdkit import Chem\n",
    "from rdkit.Chem import ChemicalFeatures\n",
    "from rdkit.Chem.Pharm2D.SigFactory import SigFactory\n",
    "\n",
    "fdefName = os.path.join(RDConfig.RDDataDir, 'BaseFeatures.fdef')\n",
    "featFactory = ChemicalFeatures.BuildFeatureFactory(fdefName)\n",
    "sigFactory = SigFactory(featFactory, minPointCount=2, maxPointCount=3)\n",
    "\n",
    "# 距離をビン分割して、それぞれのファーマコフォアに一意の整数値のIDを割り当てる\n",
    "sigFactory.SetBins([(0,2),(2,5),(5,8)])\n",
    "sigFactory.Init()\n",
    "sigFactory.GetSigSize()"
   ]
  },
  {
   "cell_type": "code",
   "execution_count": null,
   "metadata": {
    "colab": {
     "base_uri": "https://localhost:8080/"
    },
    "id": "xLpxcEiNQQTn",
    "outputId": "9883f56f-91f4-417d-d197-103825a479e6"
   },
   "outputs": [],
   "source": [
    "# 2Dファーマコフォアフィンガープリントの作成\n",
    "from rdkit.Chem.Pharm2D import Generate\n",
    "fp = Generate.Gen2DFingerprint(mol, sigFactory)\n",
    "len(fp) # フィンガープリントの長さ"
   ]
  },
  {
   "cell_type": "code",
   "execution_count": null,
   "metadata": {
    "colab": {
     "base_uri": "https://localhost:8080/"
    },
    "id": "YWutt_ELQiFW",
    "outputId": "5d1b71e4-ce87-4ef5-c6d5-657fffa6992d"
   },
   "outputs": [],
   "source": [
    "fp.GetNumOnBits() # 立っているビットの数"
   ]
  },
  {
   "cell_type": "code",
   "execution_count": null,
   "metadata": {
    "colab": {
     "base_uri": "https://localhost:8080/"
    },
    "id": "4P2CGH-gQj3J",
    "outputId": "a3d971a1-8527-43c8-b45d-38a532dc677a"
   },
   "outputs": [],
   "source": [
    "# 立っているビットの内訳\n",
    "for bit in list(fp.GetOnBits()):\n",
    "    print(bit, sigFactory.GetBitDescription(bit))"
   ]
  },
  {
   "cell_type": "markdown",
   "metadata": {
    "id": "MaJJOU6qQN9v"
   },
   "source": [
    "Gobbi & Poppinger 定義の２Dファーマコフォアを用いる\n",
    "\n",
    "Gobbi, A. & Poppinger, D. \"Genetic optimization of combinatorial libraries.\" Biotechnology and Bioengineering 61:47-54 (1998)."
   ]
  },
  {
   "cell_type": "code",
   "execution_count": null,
   "metadata": {
    "colab": {
     "base_uri": "https://localhost:8080/"
    },
    "id": "7ESMwYEQQyj7",
    "outputId": "f4e51f92-65c7-45d8-de0b-f22034becd88"
   },
   "outputs": [],
   "source": [
    "from rdkit import Chem\n",
    "from rdkit.Chem.Pharm2D import Gobbi_Pharm2D,Generate\n",
    "fp = Generate.Gen2DFingerprint(mol, Gobbi_Pharm2D.factory)\n",
    "len(fp) # フィンガープリントの長さ"
   ]
  },
  {
   "cell_type": "code",
   "execution_count": null,
   "metadata": {
    "colab": {
     "base_uri": "https://localhost:8080/"
    },
    "id": "rTckGut7K967",
    "outputId": "a6680b2b-f1ce-4b9f-a394-7859cc1f6595"
   },
   "outputs": [],
   "source": [
    "fp.GetNumOnBits() # 立っているビットの数"
   ]
  },
  {
   "cell_type": "code",
   "execution_count": null,
   "metadata": {
    "colab": {
     "base_uri": "https://localhost:8080/"
    },
    "id": "NLtavmBQQ1pL",
    "outputId": "ac9a6613-93fa-4548-942f-ca17082200d0"
   },
   "outputs": [],
   "source": [
    "# 立っているビットの内訳\n",
    "for bit in list(fp.GetOnBits()):\n",
    "    print(bit, Gobbi_Pharm2D.factory.GetBitDescription(bit))"
   ]
  },
  {
   "cell_type": "markdown",
   "metadata": {
    "id": "v9tt3Cj6mSCg"
   },
   "source": [
    "# フィンガープリントを用いた類似分子検索\n",
    "\n",
    "化学構造を数字で表現する方法としては他に、フィンガープリントというものがあります。フィンガープリントは一般的に、部分構造などの化学的特徴の有無を 1 か 0 かの bit vector として表す方法と、化学的特徴の個数を自然数の count vector として表す方法とがあります。次の分子を例として計算してみましょう。"
   ]
  },
  {
   "cell_type": "code",
   "execution_count": null,
   "metadata": {
    "colab": {
     "base_uri": "https://localhost:8080/",
     "height": 334
    },
    "id": "TIV8uEaRkiQO",
    "outputId": "bd5a011f-d833-4ade-8abc-aa94560274fd"
   },
   "outputs": [],
   "source": [
    "smile = df['Open Babel SMILES'][0]\n",
    "print(smile)\n",
    "query_mol = Chem.MolFromSmiles(smile)\n",
    "Draw.MolToImage(query_mol)"
   ]
  },
  {
   "cell_type": "markdown",
   "metadata": {
    "id": "t1NonfeUwJCF"
   },
   "source": [
    "フィンガープリントは、化合物データベース中から、クエリー（問い合わせ）分子と類似した化合物を検索する目的で当初使われました。さまざまな種類のフィンガープリントが開発され、さまざまな種類の類似性指標が開発されています。"
   ]
  },
  {
   "cell_type": "code",
   "execution_count": null,
   "metadata": {
    "id": "c6FF4ir4ktLU"
   },
   "outputs": [],
   "source": [
    "from rdkit import DataStructs\n",
    "from rdkit.Chem import AllChem\n",
    "from rdkit.Chem import MACCSkeys\n",
    "from rdkit.Chem.AtomPairs import Pairs\n",
    "from rdkit.Chem.Fingerprints import FingerprintMols\n",
    "from rdkit.Chem.AtomPairs import Torsions\n",
    "from rdkit.Avalon import pyAvalonTools\n",
    "\n",
    "# フィンガープリントいろいろ\n",
    "get_fp = lambda mol: MACCSkeys.GenMACCSKeys(mol)\n",
    "#get_fp = lambda mol: AllChem.GetMorganFingerprintAsBitVect(mol, 2, nBits=1024)\n",
    "#get_fp = lambda mol: AllChem.GetMorganFingerprintAsBitVect(mol, 2, nBits=1024, useFeatures=True)\n",
    "#get_fp = lambda mol: AllChem.GetMorganFingerprintAsBitVect(mol, 4, nBits=1024)\n",
    "#get_fp = lambda mol: AllChem.GetMorganFingerprintAsBitVect(mol, 4, nBits=1024, useFeatures=True)\n",
    "#get_fp = lambda mol: Pairs.GetAtomPairFingerprintAsBitVect(mol)\n",
    "#get_fp = lambda mol: FingerprintMols.FingerprintMol(mol) #Topological Fingerprint\n",
    "#get_fp = lambda mol: Torsions.GetTopologicalTorsionFingerprintAsIntVect(mol) \n",
    "#get_fp = lambda mol: pyAvalonTools.GetAvalonFP(mol)\n",
    "\n",
    "# 類似性指標もいろいろ\n",
    "metric = DataStructs.TanimotoSimilarity\n",
    "#metric = DataStructs.DiceSimilarity\n",
    "#metric = DataStructs.CosineSimilarity\n",
    "#metric = DataStructs.SokalSimilarity\n",
    "#metric = DataStructs.RusselSimilarity\n",
    "#metric = DataStructs.KulczynskiSimilarity\n",
    "#metric = DataStructs.McConnaugheySimilarity"
   ]
  },
  {
   "cell_type": "markdown",
   "metadata": {
    "id": "SMf-FkPqwjd7"
   },
   "source": [
    "例えば次のようにして、データベース中から類似化合物を検索することができます。"
   ]
  },
  {
   "cell_type": "code",
   "execution_count": null,
   "metadata": {
    "colab": {
     "base_uri": "https://localhost:8080/",
     "height": 417
    },
    "id": "f2_R8qxvUXhZ",
    "outputId": "f0eb3bfb-52f0-476c-e31f-646c91a39359"
   },
   "outputs": [],
   "source": [
    "query_fp = get_fp(query_mol)\n",
    "\n",
    "mols = []\n",
    "fps = [] # 複数のリンガープリントを格納するリスト\n",
    "for smile, id in zip(df['Open Babel SMILES'], df['PCCDB-ID']):\n",
    "    mol = Chem.MolFromSmiles(smile) # SMILES　を　RDKit Mol　に変換\n",
    "    mol.SetProp(\"_Name\", str(id)) # 名前をつける\n",
    "    fp = get_fp(mol)\n",
    "    fps.append(fp) # リストに格納する\n",
    "    mols.append(mol)\n",
    "\n",
    "results = []\n",
    "for i, fp in enumerate(fps):\n",
    "    results.append([DataStructs.FingerprintSimilarity(query_fp, fp, metric=metric), i])\n",
    "\n",
    "searched_mols = []\n",
    "similarity_values = []\n",
    "for sim, i in reversed(sorted(results)):\n",
    "    searched_mols.append(mols[i])\n",
    "    similarity_values.append(sim)\n",
    "\n",
    "x_start = 0 # 表示したい最初の化合物\n",
    "x_end = 10 # 表示したい最後の化合物の次\n",
    "Draw.MolsToGridImage(\n",
    "    searched_mols[x_start:x_end], # スライスで範囲を指定\n",
    "    molsPerRow=5, # 列の数\n",
    "    subImgSize=(200,200), # 画像サイズ\n",
    "    legends=[str(v) for v in similarity_values] # 注釈\n",
    "             )"
   ]
  },
  {
   "cell_type": "markdown",
   "metadata": {
    "id": "4cnvzkoRx-1u"
   },
   "source": [
    "# 最大共通部分構造\n",
    "\n",
    "化合物の類似性といえば、最大共通部分構造の大きさによって定義することも可能です。\n",
    "\n",
    "次のようにすれば、複数の分子の最大共通部分構造を得ることができます。"
   ]
  },
  {
   "cell_type": "code",
   "execution_count": null,
   "metadata": {
    "colab": {
     "base_uri": "https://localhost:8080/"
    },
    "id": "xleMxj9pkv89",
    "outputId": "2bde019c-9159-48fd-973d-901e5034403c"
   },
   "outputs": [],
   "source": [
    "from rdkit.Chem import rdFMCS\n",
    "\n",
    "mcs = rdFMCS.FindMCS([query_mol, mol], timeout=60)\n",
    "mcs.numAtoms, mcs.numBonds # 最大共通部分構造に含まれる原子数、結合数"
   ]
  },
  {
   "cell_type": "code",
   "execution_count": null,
   "metadata": {
    "colab": {
     "base_uri": "https://localhost:8080/"
    },
    "id": "Anny6w0tzUHz",
    "outputId": "0b5363a8-7e45-4bbf-b086-099665beea02"
   },
   "outputs": [],
   "source": [
    "mol_mcs = Chem.MolFromSmarts(mcs.smartsString)\n",
    "mcs1 = query_mol.GetSubstructMatch(mol_mcs) \n",
    "mcs2 = mol.GetSubstructMatch(mol_mcs)\n",
    "mcs1, mcs2 #それぞれで一致した原子番号の一覧"
   ]
  },
  {
   "cell_type": "markdown",
   "metadata": {
    "id": "q4ByFUhaxBmq"
   },
   "source": [
    "複数の分子から得られた最大共通部分構造の例です。"
   ]
  },
  {
   "cell_type": "code",
   "execution_count": null,
   "metadata": {
    "colab": {
     "base_uri": "https://localhost:8080/",
     "height": 417
    },
    "id": "QWietWs0lZoj",
    "outputId": "af0ca1df-8980-4c46-d764-94096e4203d5"
   },
   "outputs": [],
   "source": [
    "Draw.MolsToGridImage(\n",
    "    [query_mol, mol], \n",
    "    molsPerRow=2, \n",
    "    subImgSize=(400,400), \n",
    "    highlightAtomLists=[mcs1, mcs2]\n",
    "    )"
   ]
  },
  {
   "cell_type": "markdown",
   "metadata": {
    "id": "SmtQnT45xUsu"
   },
   "source": [
    "次のコードは、最大共通部分構造の大きさに基づいた類似性検索の例です。"
   ]
  },
  {
   "cell_type": "code",
   "execution_count": null,
   "metadata": {
    "colab": {
     "base_uri": "https://localhost:8080/",
     "height": 337
    },
    "id": "iQoHwJfXqCRe",
    "outputId": "16a994d9-07c3-46e8-9539-48b747a649c6"
   },
   "outputs": [],
   "source": [
    "# 最大共通部分構造の大きさに基づいた類似性検索\n",
    "\n",
    "mols = []\n",
    "for smile, id in zip(df['Open Babel SMILES'], df['PCCDB-ID']):\n",
    "    mol = Chem.MolFromSmiles(smile) # SMILES　を　RDKit Mol　に変換\n",
    "    mol.SetProp(\"_Name\", str(id)) # 名前をつける\n",
    "    mols.append(mol)\n",
    "\n",
    "results = []\n",
    "for i, mol in enumerate(mols):\n",
    "    mcs = rdFMCS.FindMCS([query_mol, mol], timeout=60)\n",
    "    results.append([mcs.numAtoms, mcs.numBonds, i])\n",
    "\n",
    "searched_mols = []\n",
    "similarity_values = []\n",
    "highlight_atom_lists = []\n",
    "for n_atom, n_bond, i in reversed(sorted(results)):\n",
    "    searched_mols.append(mols[i])\n",
    "    similarity_values.append(str(n_atom) + \",\" + str(n_bond))\n",
    "    mcs = rdFMCS.FindMCS([query_mol, mols[i]], timeout=60)\n",
    "    mol_mcs = Chem.MolFromSmarts(mcs.smartsString)\n",
    "    mcs2 = mols[i].GetSubstructMatch(mol_mcs)\n",
    "    highlight_atom_lists.append(mcs2)\n",
    "\n",
    "x_start = 0 # 表示したい最初の化合物\n",
    "x_end = 10 # 表示したい最後の化合物の次\n",
    "Draw.MolsToGridImage(\n",
    "    searched_mols[x_start:x_end], # スライスで範囲を指定\n",
    "    molsPerRow=5, # 列の数\n",
    "    subImgSize=(160, 160), # 画像サイズ\n",
    "    highlightAtomLists=highlight_atom_lists[x_start:x_end],\n",
    "    legends=similarity_values # 注釈\n",
    "             )"
   ]
  },
  {
   "cell_type": "markdown",
   "metadata": {
    "id": "8qMkdSdiyU89"
   },
   "source": [
    "\n",
    "# 課題\n",
    "\n",
    "\n",
    "\n",
    "1.   コンピューター上における化合物の表現方法にはどのようなものがあるか、共通点や相違点を明らかにしながら説明してください。\n",
    "2.   フィンガープリントに基づいた構造検索と、最大共通部分構造に基づいた構造検索について、共通点や相違点を明らかにしながら説明してください。\n",
    "3.   フィンガープリントに基づいた構造検索について、さまざまな種類のフィンガープリントと、さまざまな種類の類似性手法の組み合わせを試し、どの組み合わせが最も良さそうか検討してください。また、最大共通部分構造に基づいた構造検索とも比較し、良し悪しを検討してください。最後に、良さそうだと判断した理由も説明してください。\n",
    "\n",
    "\n",
    "# 提出方法：\n",
    "\n",
    "下記のいずれかの方法で提出してください。\n",
    "\n",
    "*   Google Colaboratory 上で動作させたコードを ikemenmaskot@gmail.com に「共有」\n",
    "*   Jupyter Notebook 上で動作させたコードを ipynb 形式または html 形式にして ikemenmaskot@gmail.com に「メール送信」\n",
    "\n",
    "\n",
    "\n",
    "# 次回\n",
    "\n",
    "第1回・第2回は機械学習の話題を取り扱い、第3回は化学構造情報処理の話題を取り扱いました。私の担当分の最終回（第4回）は、これまでの全ての話題を統合して、化学構造情報を用いた機械学習に取り組みます。\n"
   ]
  }
 ],
 "metadata": {
  "colab": {
   "collapsed_sections": [
    "8qMkdSdiyU89"
   ],
   "provenance": []
  },
  "kernelspec": {
   "display_name": "Python 3",
   "language": "python",
   "name": "python3"
  },
  "language_info": {
   "codemirror_mode": {
    "name": "ipython",
    "version": 3
   },
   "file_extension": ".py",
   "mimetype": "text/x-python",
   "name": "python",
   "nbconvert_exporter": "python",
   "pygments_lexer": "ipython3",
   "version": "3.8.0"
  }
 },
 "nbformat": 4,
 "nbformat_minor": 1
}
