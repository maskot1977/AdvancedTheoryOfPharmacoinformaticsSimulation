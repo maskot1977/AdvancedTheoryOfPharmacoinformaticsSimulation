{
  "cells": [
    {
      "cell_type": "markdown",
      "metadata": {
        "id": "view-in-github",
        "colab_type": "text"
      },
      "source": [
        "<a href=\"https://colab.research.google.com/github/maskot1977/AdvancedTheoryOfPharmacoinformaticsSimulation/blob/KOg4nHg78ZfUM4O2/%E3%83%95%E3%82%A1%E3%83%BC%E3%83%9E%E3%82%B3%E3%82%A4%E3%83%B3%E3%83%95%E3%82%A9%E3%83%9E%E3%83%86%E3%82%A3%E3%82%AF%E3%82%B9%E3%82%B7%E3%83%9F%E3%83%A5%E3%83%AC%E3%83%BC%E3%82%B7%E3%83%A7%E3%83%B3%E7%89%B9%E8%AB%964.ipynb\" target=\"_parent\"><img src=\"https://colab.research.google.com/assets/colab-badge.svg\" alt=\"Open In Colab\"/></a>"
      ]
    },
    {
      "cell_type": "markdown",
      "metadata": {
        "id": "DI12Ihi9fzd3"
      },
      "source": [
        "# ファーマコインフォマティクスシミュレーション特論\n",
        "　小寺 正明\n",
        "\n",
        "# 第４回 ML-based virtual screening\n",
        "\n",
        "創薬における virtual screening を大別すると Structure-based virtual screening (SBVS) と Ligand-based virtual screening (LBVS) に分かれると思いますが、今回は LBVS を機械学習(ML)に基づいて行う方法を Google Colaboratory 上でデモンストレーションします。今回の講義は以下のような構成で解説します。\n",
        "\n",
        "- RDKit インストール\n",
        "- 化合物データ取得\n",
        "    - 回帰用データを分類用データに変換（練習のため）\n",
        "- RDKit supporter\n",
        "    - RDKit 記述子\n",
        "    - フィンガープリント\n",
        "- 説明変数\n",
        "- 多様体学習\n",
        "- 基本\n",
        "    - 回帰問題\n",
        "    - 分類問題\n",
        "- Ensemble\n",
        "    - Voting\n",
        "    - Stacking\n",
        "    - Bagging\n",
        "    - Boosting\n",
        "- クロスバリデーション\n",
        "- 前処理\n",
        "    - 特徴選択\n",
        "- ハイパーパラメーターチューニング\n",
        "- 最後に\n",
        "\n",
        "# RDKit インストール\n",
        "\n",
        "まずは化合物構造を計算機上で取り扱える便利な RDKit をインストールします。"
      ]
    },
    {
      "cell_type": "code",
      "execution_count": null,
      "metadata": {
        "id": "7GzpnJy_bU8R"
      },
      "outputs": [],
      "source": [
        "!wget -c https://repo.continuum.io/miniconda/Miniconda3-latest-Linux-x86_64.sh\n",
        "!chmod +x Miniconda3-latest-Linux-x86_64.sh\n",
        "!bash ./Miniconda3-latest-Linux-x86_64.sh -b -f -p /usr/local\n",
        "!conda install -q -y -c rdkit rdkit python=3.7\n",
        "import sys\n",
        "sys.path.append('/usr/local/lib/python3.7/site-packages/')"
      ]
    },
    {
      "cell_type": "markdown",
      "metadata": {
        "id": "f7H-VM39gAj0"
      },
      "source": [
        "# 化合物データ取得\n",
        "\n",
        "次に、化合物データを取得しましょう。創薬とは関係がない化合物なのですが、PCCDB というデータベースから少しだけサンプリングした化合物データです。"
      ]
    },
    {
      "cell_type": "code",
      "execution_count": null,
      "metadata": {
        "id": "qW7Vb-U_gDU7"
      },
      "outputs": [],
      "source": [
        "import pandas as pd\n",
        "\n",
        "# csvからのデータ読み込み\n",
        "url = \"https://raw.githubusercontent.com/maskot1977/toydata/main/data/data_18.csv\"\n",
        "df_reg = pd.read_csv(url)\n",
        "df_reg"
      ]
    },
    {
      "cell_type": "markdown",
      "metadata": {
        "id": "9Ko2ZXTy09qO"
      },
      "source": [
        "この中で、今回は「Melting point」を目的変数としてみましょう。これは次のような分布を持っています。"
      ]
    },
    {
      "cell_type": "code",
      "execution_count": null,
      "metadata": {
        "id": "kyk48sWf08sq"
      },
      "outputs": [],
      "source": [
        "Y = df_reg[\"Melting point\"]\n",
        "Y.hist(bins=20)"
      ]
    },
    {
      "cell_type": "markdown",
      "metadata": {
        "id": "a3Ht5RHEgOef"
      },
      "source": [
        "## 回帰用データを分類用データに変換（練習のため）\n",
        "\n",
        "化学情報学（ケモインフォマティクス）では、目的変数を連続値とみなして、回帰問題として解くケースが多くあります。\n",
        "\n",
        "一方、創薬の世界では、薬理活性の有無などの目的変数を離散値とみなして、分類問題として解くケースのほうが多いです。そして、そのデータには大きな偏りがある場合がほとんどです（少数の分子しか薬理活性を持たない等）。\n",
        "\n",
        "そこで今回は、次のようにして、目的変数の連続値を偏りを持つ離散値に変換します。"
      ]
    },
    {
      "cell_type": "code",
      "execution_count": null,
      "metadata": {
        "id": "ypmo6pJggN8o"
      },
      "outputs": [],
      "source": [
        "import numpy as np\n",
        "\n",
        "df_cla = pd.DataFrame(np.where(df_reg > df_reg.describe().median() * 1.8, 1, 0), columns=df_reg.columns)\n",
        "df_cla"
      ]
    },
    {
      "cell_type": "markdown",
      "metadata": {
        "id": "d2jjCDgx1Z6M"
      },
      "source": [
        "上記のようにして変換した分類用データでは、目的変数は次のような偏りを持つ離散値になります。"
      ]
    },
    {
      "cell_type": "code",
      "execution_count": null,
      "metadata": {
        "id": "Ti474OxU1U0Y"
      },
      "outputs": [],
      "source": [
        "Y2 = df_cla[\"Melting point\"]\n",
        "Y2.hist(bins=20)"
      ]
    },
    {
      "cell_type": "markdown",
      "metadata": {
        "id": "5qreJv2rYJKg"
      },
      "source": [
        "# RDKit supporter\n",
        "\n",
        "RDKit supporter は、RDKit や ML 周りで便利な関数やクラスを私が書き溜めたものです。インストールしてみましょう。"
      ]
    },
    {
      "cell_type": "code",
      "execution_count": null,
      "metadata": {
        "id": "fmpj76TGboXi"
      },
      "outputs": [],
      "source": [
        "!pip install git+https://github.com/maskot1977/rdkit_supporter.git"
      ]
    },
    {
      "cell_type": "markdown",
      "metadata": {
        "id": "1Sz0nlqCkoxy"
      },
      "source": [
        "## RDKit 記述子\n",
        "\n",
        "SMILESなどの化学構造情報から算出可能な数字の組のうち、代表的なものが RDKit descriptors です。RDKit supporter を用いて次のように算出できます。"
      ]
    },
    {
      "cell_type": "code",
      "execution_count": null,
      "metadata": {
        "id": "eynPQyDecJ4j"
      },
      "outputs": [],
      "source": [
        "%%time \n",
        "from rdkit_supporter.descriptors import calc_descriptors\n",
        "\n",
        "rdkit_df = calc_descriptors(df_reg['Open Babel SMILES'])\n",
        "display(rdkit_df)"
      ]
    },
    {
      "cell_type": "markdown",
      "metadata": {
        "id": "XiOlVNd4mHCt"
      },
      "source": [
        "## フィンガープリント\n",
        "\n",
        "RDKit で算出できる数字の組としては他に、各種のフィンガープリントがあります。いろいろあります。"
      ]
    },
    {
      "cell_type": "code",
      "execution_count": null,
      "metadata": {
        "id": "3XgPj1NIkiEr"
      },
      "outputs": [],
      "source": [
        "# rdkit_supporter で取り扱えるフィンガープリントのリスト\n",
        "from rdkit_supporter.fingerprints import Fingerprinter\n",
        "\n",
        "fingerprinter = Fingerprinter()\n",
        "fingerprinter.names"
      ]
    },
    {
      "cell_type": "markdown",
      "metadata": {
        "id": "xTVO5frM3lI1"
      },
      "source": [
        "今回は、フィンガープリントの代表として ECFP2 を使ってみましょう。"
      ]
    },
    {
      "cell_type": "code",
      "execution_count": null,
      "metadata": {
        "id": "t7TowU3OlZGU"
      },
      "outputs": [],
      "source": [
        "fp_type = 'ECFP2'\n",
        "fp_df = pd.DataFrame([vec for vec in fingerprinter.transform(df_reg['Open Babel SMILES'], fp_type=fp_type)])\n",
        "fp_df"
      ]
    },
    {
      "cell_type": "markdown",
      "metadata": {
        "id": "4VNgBdU_GlzZ"
      },
      "source": [
        "ここまで来れば、あとは普通の（？）機械学習です。"
      ]
    },
    {
      "cell_type": "markdown",
      "metadata": {
        "id": "soO9nM_z3ybI"
      },
      "source": [
        "# 説明変数\n",
        "\n",
        "今回は、説明変数 X として RDKit descriptors を用います。"
      ]
    },
    {
      "cell_type": "code",
      "execution_count": null,
      "metadata": {
        "id": "eddngk41m_JO"
      },
      "outputs": [],
      "source": [
        "X = rdkit_df"
      ]
    },
    {
      "cell_type": "markdown",
      "metadata": {
        "id": "zsrvdlOUIhTO"
      },
      "source": [
        "# 多様体学習 (Manifold Learning)\n",
        "\n",
        "一般に機械学習で用いるデータは高次元なので、データ構造（データの分布等）を可視化するために多様体学習を用います。多様体学習はまた、データを次元縮約して機械学習の説明変数として与えることにより、計算量の削減や、精度の向上に役立つ場合があります。\n",
        "\n",
        "まずは、線形変換する [主成分分析（PCA）](https://qiita.com/maskot1977/items/082557fcda78c4cdb41f) から。Pythonの機械学習ライブラリとして名高い scikit-learn （略して sklearn） をインポートして用いることができます。"
      ]
    },
    {
      "cell_type": "code",
      "execution_count": null,
      "metadata": {
        "id": "72oDXa1aF-Dh"
      },
      "outputs": [],
      "source": [
        "import matplotlib.pyplot as plt\n",
        "from sklearn.decomposition import PCA\n",
        "\n",
        "manifold = PCA()\n",
        "embedding = manifold.fit_transform(X)\n",
        "plt.scatter(embedding[:, 0], embedding[:, 1], alpha=0.5, c=Y)\n",
        "plt.show()\n",
        "print(manifold.explained_variance_ratio_[:10])"
      ]
    },
    {
      "cell_type": "markdown",
      "metadata": {
        "id": "a6RixLDy5bR4"
      },
      "source": [
        "おっと、このままでは説明変数に欠損値 (NaN) があるため計算できないようですね。[欠損値を補間するための方法](https://scikit-learn.org/stable/modules/classes.html#module-sklearn.impute)にはいろいろあります。\n",
        "\n",
        "*   欠損値を持つ列を丸ごと除去する\n",
        "*   欠損値をゼロで埋める\n",
        "*   欠損値を平均値で埋める\n",
        "*   欠損値を中央値で埋める\n",
        "*   欠損値を最頻値で埋める\n",
        "*   欠損値を機械学習で補間する\n",
        "\n",
        "今回は、そのうち [KNNImputer](https://scikit-learn.org/stable/modules/generated/sklearn.impute.KNNImputer.html) で補間してみましょう。\n"
      ]
    },
    {
      "cell_type": "code",
      "execution_count": null,
      "metadata": {
        "id": "tV8h0UtIIyIX"
      },
      "outputs": [],
      "source": [
        "from sklearn.impute import KNNImputer\n",
        "\n",
        "imputer = KNNImputer()\n",
        "X = pd.DataFrame(imputer.fit_transform(X), columns=X.columns)"
      ]
    },
    {
      "cell_type": "markdown",
      "metadata": {
        "id": "MfdCOTUz6YgG"
      },
      "source": [
        "すると今度はエラーなく PCA を実行できました。"
      ]
    },
    {
      "cell_type": "code",
      "execution_count": null,
      "metadata": {
        "id": "tKlhlrWBJXxc"
      },
      "outputs": [],
      "source": [
        "import matplotlib.pyplot as plt\n",
        "from sklearn.decomposition import PCA\n",
        "\n",
        "manifold = PCA()\n",
        "embedding = manifold.fit_transform(X)\n",
        "plt.scatter(embedding[:, 0], embedding[:, 1], alpha=0.5, c=Y)\n",
        "plt.colorbar()\n",
        "plt.show()\n",
        "print(manifold.explained_variance_ratio_[:10])"
      ]
    },
    {
      "cell_type": "markdown",
      "metadata": {
        "id": "H0nsKF2W7HEv"
      },
      "source": [
        "こんな極端な分布が得られるときは、各変数の尺度が大きく異なる時ですね。[StandardScaler](https://scikit-learn.org/stable/modules/generated/sklearn.preprocessing.StandardScaler.html) などのスケーラーを用いて尺度を揃えましょう。[Pipeline](https://scikit-learn.org/stable/modules/generated/sklearn.pipeline.Pipeline.html) を用いると、StandardScaler を通してから PCA するというような計算パイプラインが簡単に作れます。"
      ]
    },
    {
      "cell_type": "code",
      "execution_count": null,
      "metadata": {
        "id": "0LunXUwAJlvG"
      },
      "outputs": [],
      "source": [
        "import matplotlib.pyplot as plt\n",
        "from sklearn.decomposition import PCA\n",
        "from sklearn.preprocessing import StandardScaler\n",
        "from sklearn.pipeline import Pipeline\n",
        "\n",
        "manifold = Pipeline([('scaler', StandardScaler()), ('pca', PCA())])\n",
        "embedding = manifold.fit_transform(X)\n",
        "plt.scatter(embedding[:, 0], embedding[:, 1], alpha=0.5, c=Y)\n",
        "plt.colorbar()\n",
        "plt.show()\n",
        "print(manifold['pca'].explained_variance_ratio_[:10])"
      ]
    },
    {
      "cell_type": "markdown",
      "metadata": {
        "id": "OD9PPVvW9Y2v"
      },
      "source": [
        "上記のプロットの色は目的変数の連続値を表しています。 PCA から察するに、この分子の集合はいくつかのサブグループに分かれるように見えますが、それと目的変数との関係は、あるようなないような...？\n",
        "\n",
        "次は同じPCAプロットを、目的変数の離散値で色付けしてみましょう。"
      ]
    },
    {
      "cell_type": "code",
      "execution_count": null,
      "metadata": {
        "id": "fxiSSIfqOflT"
      },
      "outputs": [],
      "source": [
        "import matplotlib.pyplot as plt\n",
        "from sklearn.decomposition import PCA\n",
        "from sklearn.preprocessing import StandardScaler\n",
        "from sklearn.pipeline import Pipeline\n",
        "\n",
        "manifold = Pipeline([('scaler', StandardScaler()), ('pca', PCA())])\n",
        "embedding = manifold.fit_transform(X)\n",
        "plt.scatter(embedding[:, 0], embedding[:, 1], alpha=0.5, c=Y2)\n",
        "plt.colorbar()\n",
        "plt.show()\n",
        "print(manifold['pca'].explained_variance_ratio_[:10])"
      ]
    },
    {
      "cell_type": "markdown",
      "metadata": {
        "id": "8Z0x0H3v-FDl"
      },
      "source": [
        "うーん、何となくは分かれるみたいですが、何となくですね。\n",
        "\n",
        "次は、非線形の多様体学習モデルとして有名な [t-SNE](https://scikit-learn.org/stable/modules/generated/sklearn.manifold.TSNE.html) を使ってみましょうか。"
      ]
    },
    {
      "cell_type": "code",
      "execution_count": null,
      "metadata": {
        "id": "Hjd0EDtPMdIW"
      },
      "outputs": [],
      "source": [
        "import matplotlib.pyplot as plt\n",
        "from sklearn.manifold import TSNE\n",
        "from sklearn.preprocessing import StandardScaler\n",
        "from sklearn.pipeline import Pipeline\n",
        "\n",
        "manifold = Pipeline([('scaler', StandardScaler()), ('tsne', TSNE())])\n",
        "embedding = manifold.fit_transform(X)\n",
        "plt.scatter(embedding[:, 0], embedding[:, 1], alpha=0.5, c=Y)\n",
        "plt.colorbar()\n",
        "plt.show()"
      ]
    },
    {
      "cell_type": "markdown",
      "metadata": {
        "id": "WZvL35y3-gjG"
      },
      "source": [
        "実はこの t-SNE、ハイパーパラメータを変えると構造が大きく変わってしまう、乱数の種が変わると構造が大きく変わってしまう、などの特徴があるため、ひとつの t-SNE マッピングだけしか眺めないというのは危険だったりします。詳しくは [t-SNEの教師ありハイパーパラメーターチューニング](https://qiita.com/maskot1977/items/2213e33c31cfc5403bf6) などをご参照ください。\n",
        "\n",
        "次は同じt-SNEですが離散値の目的変数で色付けしてみましょう。"
      ]
    },
    {
      "cell_type": "code",
      "execution_count": null,
      "metadata": {
        "id": "GpxcgxoUo5NF"
      },
      "outputs": [],
      "source": [
        "import matplotlib.pyplot as plt\n",
        "from sklearn.manifold import TSNE\n",
        "from sklearn.preprocessing import StandardScaler\n",
        "from sklearn.pipeline import Pipeline\n",
        "\n",
        "manifold = Pipeline([('scaler', StandardScaler()), ('tsne', TSNE())])\n",
        "embedding = manifold.fit_transform(X)\n",
        "plt.scatter(embedding[:, 0], embedding[:, 1], alpha=0.5, c=Y2)\n",
        "plt.colorbar()\n",
        "plt.show()"
      ]
    },
    {
      "cell_type": "markdown",
      "metadata": {
        "id": "zzJxDJfUBcks"
      },
      "source": [
        "うーん、まあ、高い値の化合物がある程度は固まっているようには見えますね。\n",
        "\n",
        "次は、同じく非線形の多様体学習モデルでありながら、パラメータ依存の少ない [Isomap](https://qiita.com/maskot1977/items/9096a736a7442fd4fbf1) を試してみましょう。"
      ]
    },
    {
      "cell_type": "code",
      "execution_count": null,
      "metadata": {
        "id": "SOUGwa92NwvF"
      },
      "outputs": [],
      "source": [
        "import matplotlib.pyplot as plt\n",
        "from sklearn.manifold import Isomap\n",
        "from sklearn.preprocessing import StandardScaler\n",
        "from sklearn.pipeline import Pipeline\n",
        "\n",
        "manifold = Pipeline([('scaler', StandardScaler()), ('isomap', Isomap())])\n",
        "embedding = manifold.fit_transform(X)\n",
        "plt.scatter(embedding[:, 0], embedding[:, 1], alpha=0.5, c=Y)\n",
        "plt.colorbar()\n",
        "plt.show()"
      ]
    },
    {
      "cell_type": "markdown",
      "metadata": {
        "id": "JnXo5_5HCuaa"
      },
      "source": [
        "離散値の目的変数で色付けしてみましょう。"
      ]
    },
    {
      "cell_type": "code",
      "execution_count": null,
      "metadata": {
        "id": "jKv0jfflpIrf"
      },
      "outputs": [],
      "source": [
        "import matplotlib.pyplot as plt\n",
        "from sklearn.manifold import Isomap\n",
        "from sklearn.preprocessing import StandardScaler\n",
        "from sklearn.pipeline import Pipeline\n",
        "\n",
        "manifold = Pipeline([('scaler', StandardScaler()), ('isomap', Isomap())])\n",
        "embedding = manifold.fit_transform(X)\n",
        "plt.scatter(embedding[:, 0], embedding[:, 1], alpha=0.5, c=Y2)\n",
        "plt.colorbar()\n",
        "plt.show()"
      ]
    },
    {
      "cell_type": "markdown",
      "metadata": {
        "id": "t-JAONErCwaE"
      },
      "source": [
        "さて、とりあえず PCA, t-SNE, Isomap を使ってみましたが、このようにさまざまなマッピングをしてじっくり見比べてみると、化合物空間がどのような構造になっているのか、ぼんやりとしたイメージを持つことができるのではないでしょうか。\n",
        "\n",
        "他にも私のお気に入りとして [UMAP](https://qiita.com/maskot1977/items/31079c132e3fea3332a5) というものがあるのですが、これは scikit-learn に入っていないので、今回は省略します。"
      ]
    },
    {
      "cell_type": "markdown",
      "metadata": {
        "id": "hRRydqZZmtGq"
      },
      "source": [
        "# 基本\n",
        "\n",
        "## 回帰問題\n",
        "\n",
        "それでは、機械学習を用いた化合物の物性予測の基本から行きましょう。ハイパーパラメーターチューニングは、しばらく行いません。デフォルトパラメータだけでどこまでできるか、やってみましょう。最初に回帰問題を取り扱います。回帰問題の性能評価指標にはさまざまなものがありますが、詳しくは[こちら](https://scikit-learn.org/stable/modules/model_evaluation.html#regression-metrics)をご参照ください。\n",
        "\n",
        "いくつかの回帰手法を試してみましょう。まずは [SVR (SVM Regressor)](https://scikit-learn.org/stable/modules/generated/sklearn.svm.SVR.html) から。 "
      ]
    },
    {
      "cell_type": "code",
      "execution_count": null,
      "metadata": {
        "id": "y3cSNghEqvZj"
      },
      "outputs": [],
      "source": [
        "from sklearn.svm import SVR\n",
        "from rdkit_supporter import depict\n",
        "\n",
        "model = SVR()\n",
        "model.fit(X, Y)\n",
        "depict.regression_metrics(model, X, Y)"
      ]
    },
    {
      "cell_type": "markdown",
      "metadata": {
        "id": "0Ua__6tgHleU"
      },
      "source": [
        "全然ダメですね。次は [KNeighborsRegressor](https://scikit-learn.org/stable/modules/generated/sklearn.neighbors.KNeighborsRegressor.html)。"
      ]
    },
    {
      "cell_type": "code",
      "execution_count": null,
      "metadata": {
        "id": "9eKphWl04yHN"
      },
      "outputs": [],
      "source": [
        "from sklearn.neighbors import KNeighborsRegressor\n",
        "from rdkit_supporter import depict\n",
        "\n",
        "model = KNeighborsRegressor()\n",
        "model.fit(X, Y)\n",
        "depict.regression_metrics(model, X, Y)"
      ]
    },
    {
      "cell_type": "markdown",
      "metadata": {
        "id": "AFTrYxMwHwqU"
      },
      "source": [
        "次は [RandomForestRegressor](https://scikit-learn.org/stable/modules/generated/sklearn.ensemble.RandomForestRegressor.html)。"
      ]
    },
    {
      "cell_type": "code",
      "execution_count": null,
      "metadata": {
        "id": "_3R9kHy24Mi3"
      },
      "outputs": [],
      "source": [
        "from sklearn.ensemble import RandomForestRegressor\n",
        "from rdkit_supporter import depict\n",
        "\n",
        "model = RandomForestRegressor()\n",
        "model.fit(X, Y)\n",
        "depict.regression_metrics(model, X, Y)"
      ]
    },
    {
      "cell_type": "markdown",
      "metadata": {
        "id": "P0K3eDmOH6Ek"
      },
      "source": [
        "次は [GradientBoostingRegressor](https://scikit-learn.org/stable/modules/generated/sklearn.ensemble.GradientBoostingRegressor.html)。ちなみにこれの発展型で、大規模データでも速い [HistGradientBoostingRegressor](https://scikit-learn.org/stable/modules/generated/sklearn.ensemble.HistGradientBoostingRegressor.html) というのがあるそうです。"
      ]
    },
    {
      "cell_type": "code",
      "execution_count": null,
      "metadata": {
        "id": "KTIxI-CM43oQ"
      },
      "outputs": [],
      "source": [
        "from sklearn.ensemble import GradientBoostingRegressor\n",
        "from rdkit_supporter import depict\n",
        "\n",
        "model = GradientBoostingRegressor()\n",
        "model.fit(X, Y)\n",
        "depict.regression_metrics(model, X, Y)"
      ]
    },
    {
      "cell_type": "markdown",
      "metadata": {
        "id": "UIAqFtweIGmt"
      },
      "source": [
        "最後に [MLPRegressor](https://scikit-learn.org/stable/modules/generated/sklearn.neural_network.MLPClassifier.html)。"
      ]
    },
    {
      "cell_type": "code",
      "execution_count": null,
      "metadata": {
        "id": "WvPgEPcd4-k-"
      },
      "outputs": [],
      "source": [
        "from sklearn.neural_network import MLPRegressor\n",
        "from rdkit_supporter import depict\n",
        "\n",
        "model = MLPRegressor()\n",
        "model.fit(X, Y)\n",
        "depict.regression_metrics(model, X, Y)"
      ]
    },
    {
      "cell_type": "markdown",
      "metadata": {
        "id": "-ZNEyaBhtm_N"
      },
      "source": [
        "## 分類問題\n",
        "\n",
        "次に、分類問題の基本に取り組んでみましょう。ここでも、ハイパーパラメーターチューニングは行いません。デフォルトパラメータだけでどこまでできるか、やってみましょう。分類問題の性能評価指標にはさまざまなものがありますが、詳しくは[こちら](https://scikit-learn.org/stable/modules/model_evaluation.html#classification-metrics)をご参照ください。\n",
        "\n",
        "いくつかの分類手法を試してみましょう。まずは [SVC (SVM Classifier)](https://scikit-learn.org/stable/modules/generated/sklearn.svm.SVC.html) から。"
      ]
    },
    {
      "cell_type": "code",
      "execution_count": null,
      "metadata": {
        "id": "-neXagDUQIQc"
      },
      "outputs": [],
      "source": [
        "from sklearn.svm import SVC\n",
        "from rdkit_supporter import depict\n",
        "\n",
        "model = SVC()\n",
        "model.fit(X, Y2)\n",
        "depict.classification_metrics(model, X, Y2)"
      ]
    },
    {
      "cell_type": "markdown",
      "metadata": {
        "id": "qLTty1HUJ8F_"
      },
      "source": [
        "悪い例を見るのも勉強になりますね（？）。次は [KNeighborsClassifier](https://scikit-learn.org/stable/modules/generated/sklearn.neighbors.KNeighborsClassifier.html)。"
      ]
    },
    {
      "cell_type": "code",
      "execution_count": null,
      "metadata": {
        "id": "k6ppvc6xQvo9"
      },
      "outputs": [],
      "source": [
        "from sklearn.neighbors import KNeighborsClassifier\n",
        "\n",
        "model = KNeighborsClassifier()\n",
        "model.fit(X, Y2)\n",
        "depict.classification_metrics(model, X, Y2)"
      ]
    },
    {
      "cell_type": "markdown",
      "metadata": {
        "id": "WXYsLbDKKf_l"
      },
      "source": [
        "次は [RandomForestClassifier](https://scikit-learn.org/stable/modules/generated/sklearn.ensemble.RandomForestClassifier.html)。"
      ]
    },
    {
      "cell_type": "code",
      "execution_count": null,
      "metadata": {
        "id": "Er58ClHhQkvl"
      },
      "outputs": [],
      "source": [
        "from sklearn.ensemble import RandomForestClassifier\n",
        "\n",
        "model = RandomForestClassifier()\n",
        "model.fit(X, Y2)\n",
        "depict.classification_metrics(model, X, Y2)"
      ]
    },
    {
      "cell_type": "markdown",
      "metadata": {
        "id": "VaorrIRRKsa-"
      },
      "source": [
        "次は [GradientBoostingClassifier](https://scikit-learn.org/stable/modules/generated/sklearn.ensemble.GradientBoostingClassifier.html)。ちなみにこれの改良型で、大規模データでも速い [HistGradientBoostingClassifier](https://scikit-learn.org/stable/modules/generated/sklearn.ensemble.HistGradientBoostingClassifier.html) というものがあるそうです。"
      ]
    },
    {
      "cell_type": "code",
      "execution_count": null,
      "metadata": {
        "id": "V09kEpItQ8ZW"
      },
      "outputs": [],
      "source": [
        "from sklearn.ensemble import GradientBoostingClassifier\n",
        "\n",
        "model = GradientBoostingClassifier()\n",
        "model.fit(X, Y2)\n",
        "depict.classification_metrics(model, X, Y2)"
      ]
    },
    {
      "cell_type": "markdown",
      "metadata": {
        "id": "aE9hvaW2LsW4"
      },
      "source": [
        "最後に [MLPClassifier](https://scikit-learn.org/stable/modules/generated/sklearn.neural_network.MLPClassifier.html)。"
      ]
    },
    {
      "cell_type": "code",
      "execution_count": null,
      "metadata": {
        "id": "xR6xqp8jRH1T"
      },
      "outputs": [],
      "source": [
        "from sklearn.neural_network import MLPClassifier\n",
        "\n",
        "model = MLPClassifier()\n",
        "model.fit(X, Y2)\n",
        "depict.classification_metrics(model, X, Y2)"
      ]
    },
    {
      "cell_type": "markdown",
      "metadata": {
        "id": "pwob5TFU3C5T"
      },
      "source": [
        "# Ensemble\n",
        "\n",
        "ここまで、単独の学習器の性能を見てきました。ここからは、複数の学習器を組み合わせる（ensembleする）とどうなるか見てみたいと思います。\n",
        "\n",
        "ところで、ensemble は既にこの講義で登場しています。RandomForest や GradientBoosting はそれぞれ `from sklearn.ensemble import RandomForestClassifier` や `from sklearn.ensemble import GradientBoostingClassifier` のようにして import することから分かるように、それ自体が ensemble 手法です。\n",
        "\n",
        "ensemble 手法を大別すると\n",
        "\n",
        "- voting (複数の学習器を並列に用いて、平等に取り扱う)\n",
        "- stacking (複数の学習器を並列に用いて、その結果をさらに学習する)\n",
        "- bagging (同タイプの学習器を並列に用いて、異なるサンプリングデータで複数回学習する)\n",
        "- boosting (同タイプの学習器を直列に用いて、前の学習器が間違えた部分を後の学習器が再学習する)\n",
        "\n",
        "の４種類になります。まずは Voting から行ってみましょう。\n",
        "\n",
        "## Voting\n",
        "\n",
        "voting は 「複数の学習器を並列に用いて、平等に取り扱う」 と説明しましたが、その複数の学習器は、同じタイプでも異なるタイプでも構いません。\n",
        "\n",
        "回帰問題の場合は単純に、（デフォルト設定の場合）複数の学習器の出力の「平均値」を最終的な出力とします（オプションで、各々の学習器に重みづけを設定することが可能です）。詳しくは [VotingRegressor](https://scikit-learn.org/stable/modules/generated/sklearn.ensemble.VotingRegressor.html) 参照。"
      ]
    },
    {
      "cell_type": "code",
      "execution_count": null,
      "metadata": {
        "id": "E5mGs77d3eKw"
      },
      "outputs": [],
      "source": [
        "from sklearn.svm import SVR\n",
        "from sklearn.neighbors import KNeighborsRegressor\n",
        "from sklearn.ensemble import VotingRegressor\n",
        "from sklearn.neural_network import MLPRegressor\n",
        "from rdkit_supporter import depict\n",
        "\n",
        "model = VotingRegressor([('svm', SVR()), ('kn', KNeighborsRegressor()), ('mlp', MLPRegressor())])\n",
        "model.fit(X, Y)\n",
        "depict.regression_metrics(model, X, Y)"
      ]
    },
    {
      "cell_type": "markdown",
      "metadata": {
        "id": "F2R82QP6fdMs"
      },
      "source": [
        "分類問題の場合は（デフォルト設定の場合）複数の学習器の出力の「多数決」を取ります（オプションで、予測された可能性値 predict probability の和が最大のものを選ぶこともできます）。詳しくは [VotingClassifier](https://scikit-learn.org/stable/modules/generated/sklearn.ensemble.VotingClassifier.html) 参照。"
      ]
    },
    {
      "cell_type": "code",
      "execution_count": null,
      "metadata": {
        "id": "2xtiPbDZ4UXj"
      },
      "outputs": [],
      "source": [
        "from sklearn.svm import SVC\n",
        "from sklearn.neighbors import KNeighborsClassifier\n",
        "from sklearn.ensemble import VotingClassifier\n",
        "from sklearn.neural_network import MLPClassifier\n",
        "from rdkit_supporter import depict\n",
        "\n",
        "model = VotingClassifier([('svm', SVC()), ('kn', KNeighborsClassifier()), ('mlp', MLPClassifier())])\n",
        "model.fit(X, Y2)\n",
        "depict.classification_metrics(model, X, Y2)"
      ]
    },
    {
      "cell_type": "markdown",
      "metadata": {
        "id": "lED0g8J1BYWC"
      },
      "source": [
        "## Stacking\n",
        "\n",
        "Stacking は Voting をさらに発展させたもので、「複数の学習器を並列に用いて、その結果をさらに学習する」 と説明できます。複数の学習器の出力結果を新たな入力として、final_estimator を学習させ最終決定を下します。\n",
        "\n",
        "回帰問題の場合、デフォルトで [RidgeCV](https://scikit-learn.org/stable/modules/generated/sklearn.linear_model.RidgeCV.html) が用いられますが、他の回帰モデルを利用することも可能です。詳しくは [StackingRegressor](https://scikit-learn.org/stable/modules/generated/sklearn.ensemble.StackingRegressor.html) 参照。"
      ]
    },
    {
      "cell_type": "code",
      "execution_count": null,
      "metadata": {
        "id": "2SIxhEUmBcEV"
      },
      "outputs": [],
      "source": [
        "sfrom sklearn.svm import SVR\n",
        "from sklearn.neighbors import KNeighborsRegressor\n",
        "from sklearn.ensemble import StackingRegressor\n",
        "from sklearn.neural_network import MLPRegressor\n",
        "from rdkit_supporter import depict\n",
        "from sklearn.linear_model import RidgeCV\n",
        "\n",
        "model = StackingRegressor(\n",
        "    [('svm', SVR()), ('kn', KNeighborsRegressor()), ('mlp', MLPRegressor())],\n",
        "    final_estimator=RidgeCV())\n",
        "model.fit(X, Y)\n",
        "depict.regression_metrics(model, X, Y)"
      ]
    },
    {
      "cell_type": "markdown",
      "metadata": {
        "id": "hyg5UH8Hh9yl"
      },
      "source": [
        "回帰問題の場合、デフォルトで [LogisticRegression](https://scikit-learn.org/stable/modules/generated/sklearn.linear_model.LogisticRegression.html) が用いられますが、他の回帰モデルを利用することも可能です。詳しくは [StackingClassifier](https://scikit-learn.org/stable/modules/generated/sklearn.ensemble.StackingClassifier.html) 参照。"
      ]
    },
    {
      "cell_type": "code",
      "execution_count": null,
      "metadata": {
        "id": "Cs2_HKUMGnbY"
      },
      "outputs": [],
      "source": [
        "from sklearn.svm import SVC\n",
        "from sklearn.neighbors import KNeighborsClassifier\n",
        "from sklearn.ensemble import StackingClassifier\n",
        "from sklearn.neural_network import MLPClassifier\n",
        "from rdkit_supporter import depict\n",
        "from sklearn.linear_model import LogisticRegression\n",
        "\n",
        "model = StackingClassifier(\n",
        "    [('svm', SVC()), ('kn', KNeighborsClassifier()), ('mlp', MLPClassifier())],\n",
        "    final_estimator=LogisticRegression())\n",
        "model.fit(X, Y2)\n",
        "depict.classification_metrics(model, X, Y2)"
      ]
    },
    {
      "cell_type": "markdown",
      "metadata": {
        "id": "9wrzGkBl5cGz"
      },
      "source": [
        "## Bagging\n",
        "\n",
        "Bagging は、「同タイプの学習器を並列に用いて、異なるサンプリングデータで複数回学習する」手法です。[こちら](https://helve-blog.com/posts/python/sklearn-bagging-classifier/) の記事が詳しいです。\n",
        "\n",
        "まずは [BaggingRegressor](https://scikit-learn.org/stable/modules/generated/sklearn.ensemble.BaggingRegressor.html) から。"
      ]
    },
    {
      "cell_type": "code",
      "execution_count": null,
      "metadata": {
        "id": "3T3cDahm5gkA"
      },
      "outputs": [],
      "source": [
        "from sklearn.neighbors import KNeighborsRegressor\n",
        "from sklearn.ensemble import BaggingRegressor\n",
        "from rdkit_supporter import depict\n",
        "\n",
        "model = BaggingRegressor(base_estimator=KNeighborsRegressor())\n",
        "model.fit(X, Y)\n",
        "depict.regression_metrics(model, X, Y)"
      ]
    },
    {
      "cell_type": "markdown",
      "metadata": {
        "id": "BC3Fd_UCiizS"
      },
      "source": [
        "次は [BaggingClassifier](https://scikit-learn.org/stable/modules/generated/sklearn.ensemble.BaggingClassifier.html) 。"
      ]
    },
    {
      "cell_type": "code",
      "execution_count": null,
      "metadata": {
        "id": "iw1_dhp-6s5V"
      },
      "outputs": [],
      "source": [
        "from sklearn.neighbors import KNeighborsClassifier\n",
        "from sklearn.ensemble import BaggingClassifier\n",
        "from rdkit_supporter import depict\n",
        "\n",
        "model = BaggingClassifier(base_estimator=KNeighborsClassifier())\n",
        "model.fit(X, Y2)\n",
        "depict.classification_metrics(model, X, Y2)"
      ]
    },
    {
      "cell_type": "markdown",
      "metadata": {
        "id": "PuptGe277ARp"
      },
      "source": [
        "## Boosting\n",
        "\n",
        "Boosting は「同タイプの学習器を直列に用いて、前の学習器が間違えた部分を後の学習器が再学習する」と説明できます。まずは [AdaBoostRegressor](https://scikit-learn.org/stable/modules/generated/sklearn.ensemble.AdaBoostRegressor.html) から。"
      ]
    },
    {
      "cell_type": "code",
      "execution_count": null,
      "metadata": {
        "id": "i25i4Aot7Hie"
      },
      "outputs": [],
      "source": [
        "from sklearn.neural_network import MLPClassifier\n",
        "from sklearn.ensemble import AdaBoostRegressor\n",
        "from rdkit_supporter import depict\n",
        "\n",
        "model = AdaBoostRegressor(base_estimator=KNeighborsRegressor())\n",
        "model.fit(X, Y)\n",
        "depict.regression_metrics(model, X, Y)"
      ]
    },
    {
      "cell_type": "markdown",
      "metadata": {
        "id": "dRrVh4EtjOW8"
      },
      "source": [
        "次は [AdaBoostClassifier](https://scikit-learn.org/stable/modules/generated/sklearn.ensemble.AdaBoostClassifier.html)。"
      ]
    },
    {
      "cell_type": "code",
      "execution_count": null,
      "metadata": {
        "id": "F5cOgMqY8iUO"
      },
      "outputs": [],
      "source": [
        "from sklearn.ensemble import AdaBoostClassifier\n",
        "from sklearn.ensemble import RandomForestClassifier\n",
        "from rdkit_supporter import depict\n",
        "\n",
        "model = AdaBoostClassifier(base_estimator=RandomForestClassifier())\n",
        "model.fit(X, Y2)\n",
        "depict.classification_metrics(model, X, Y2)"
      ]
    },
    {
      "cell_type": "markdown",
      "metadata": {
        "id": "hoT7kJfNjYP1"
      },
      "source": [
        "\n",
        "技術的には、今まで述べた手法をいくらでも積み重ねることができます。Ensemble手法の中に別のEnsemble手法を入れたり、さらにそれを Pipeline の中に入れたり、さまざまな複雑化が可能です。"
      ]
    },
    {
      "cell_type": "markdown",
      "metadata": {
        "id": "m5vO3cFm_vH4"
      },
      "source": [
        "# クロスバリデーション\n",
        "\n",
        "ここまで、全てのデータを学習に用いていました。しかし本当はこれではいけません。学習用データと検証用データに分割して、交差検証（クロスバリデーション）しないと、汎化性能がある（オーバーフィッティングしていない）かどうかが分かりません。交差検証する方法もさまざまなものがありますが、ここでは [Kfold](https://scikit-learn.org/stable/modules/generated/sklearn.model_selection.KFold.html) を用いましょう。（交差検証について詳しくは [こちら](https://scikit-learn.org/stable/modules/cross_validation.html)）"
      ]
    },
    {
      "cell_type": "code",
      "execution_count": null,
      "metadata": {
        "id": "RCTUXf9jmCW9"
      },
      "outputs": [],
      "source": [
        "from sklearn.model_selection import KFold\n",
        "\n",
        "kf = KFold(n_splits=4, random_state=53, shuffle=True)\n",
        "for i, (train_index, test_index) in enumerate(kf.split(X)):\n",
        "    print(i, train_index, test_index)"
      ]
    },
    {
      "cell_type": "markdown",
      "metadata": {
        "id": "3BMa-74VuOp0"
      },
      "source": [
        "この KFold を使って、SVR (SVM Regressor) の交差検証をしてみましょう。rdkit_supporter の depict.kfold_cv を使えば、次のように交差検証が行えます。全データを用いて学習した結果と、交差検証の結果を比較してみましょう。"
      ]
    },
    {
      "cell_type": "code",
      "execution_count": null,
      "metadata": {
        "id": "7d0ktDKdAjgF"
      },
      "outputs": [],
      "source": [
        "from sklearn.svm import SVR\n",
        "from rdkit_supporter import depict\n",
        "\n",
        "model = SVR()\n",
        "models = depict.kfold_cv(model, X, Y)"
      ]
    },
    {
      "cell_type": "markdown",
      "metadata": {
        "id": "HdEmpejvvS7f"
      },
      "source": [
        "続いて、次のようにすることで、交差検証で得た学習済み予測器を ensemble した予測モデルを構築できます。ensemble 前の結果と後の結果を比較してみましょう。\n"
      ]
    },
    {
      "cell_type": "code",
      "execution_count": null,
      "metadata": {
        "id": "3tOjZqK05QQ3"
      },
      "outputs": [],
      "source": [
        "from rdkit_supporter.ensemble import VotingEstimator\n",
        "\n",
        "ensemble = VotingEstimator([(str(n), m) for n, m in enumerate(models)])\n",
        "depict.regression_metrics(ensemble, X, Y)"
      ]
    },
    {
      "cell_type": "markdown",
      "metadata": {
        "id": "vVvAraxnwVNp"
      },
      "source": [
        "同様の工程を、他の予測器に対しても行うことができます。全データを用いて学習した結果と、交差検証の結果と、ensembleの結果を比較してみましょう。"
      ]
    },
    {
      "cell_type": "code",
      "execution_count": null,
      "metadata": {
        "id": "hIfPGTSoEEeZ"
      },
      "outputs": [],
      "source": [
        "from sklearn.neighbors import KNeighborsRegressor\n",
        "\n",
        "model = KNeighborsRegressor()\n",
        "models = depict.kfold_cv(model, X, Y)\n",
        "ensemble = VotingEstimator([(str(n), m) for n, m in enumerate(models)])\n",
        "depict.regression_metrics(ensemble, X, Y)"
      ]
    },
    {
      "cell_type": "markdown",
      "metadata": {
        "id": "Q4dTZlABwq3L"
      },
      "source": [
        "同様に、全データを用いて学習した結果と、交差検証の結果と、ensembleの結果を比較してみましょう。"
      ]
    },
    {
      "cell_type": "code",
      "execution_count": null,
      "metadata": {
        "id": "IpPiq9IhDam1"
      },
      "outputs": [],
      "source": [
        "from sklearn.ensemble import RandomForestRegressor\n",
        "\n",
        "model = RandomForestRegressor()\n",
        "models = depict.kfold_cv(model, X, Y)\n",
        "ensemble = VotingEstimator([(str(n), m) for n, m in enumerate(models)])\n",
        "depict.regression_metrics(ensemble, X, Y)"
      ]
    },
    {
      "cell_type": "markdown",
      "metadata": {
        "id": "PGcC025lws43"
      },
      "source": [
        "同様に、全データを用いて学習した結果と、交差検証の結果と、ensembleの結果を比較してみましょう。"
      ]
    },
    {
      "cell_type": "code",
      "execution_count": null,
      "metadata": {
        "id": "lOYYyuAsEN4v"
      },
      "outputs": [],
      "source": [
        "from sklearn.ensemble import GradientBoostingRegressor\n",
        "\n",
        "model = GradientBoostingRegressor()\n",
        "models = depict.kfold_cv(model, X, Y)\n",
        "ensemble = VotingEstimator([(str(n), m) for n, m in enumerate(models)])\n",
        "depict.regression_metrics(ensemble, X, Y)"
      ]
    },
    {
      "cell_type": "markdown",
      "metadata": {
        "id": "swo1MdgiwucV"
      },
      "source": [
        "同様に、全データを用いて学習した結果と、交差検証の結果と、ensembleの結果を比較してみましょう。"
      ]
    },
    {
      "cell_type": "code",
      "execution_count": null,
      "metadata": {
        "id": "qY9UGmF8EZ3Z"
      },
      "outputs": [],
      "source": [
        "from sklearn.neural_network import MLPRegressor\n",
        "\n",
        "model = MLPRegressor()\n",
        "models = depict.kfold_cv(model, X, Y)\n",
        "ensemble = VotingEstimator([(str(n), m) for n, m in enumerate(models)])\n",
        "depict.regression_metrics(ensemble, X, Y)"
      ]
    },
    {
      "cell_type": "markdown",
      "metadata": {
        "id": "ICINm4i-wzd3"
      },
      "source": [
        "次は分類モデルです。全データを用いて学習した結果と、交差検証の結果と、ensembleの結果を比較してみましょう。"
      ]
    },
    {
      "cell_type": "code",
      "execution_count": null,
      "metadata": {
        "id": "OFBPvyQRGLIE"
      },
      "outputs": [],
      "source": [
        "from sklearn.svm import SVC\n",
        "\n",
        "model = SVC(probability=True)\n",
        "models = depict.kfold_cv(model, X, Y2)\n",
        "ensemble = VotingEstimator([(str(n), m) for n, m in enumerate(models)])\n",
        "depict.classification_metrics(ensemble, X, Y2)"
      ]
    },
    {
      "cell_type": "markdown",
      "metadata": {
        "id": "KAclU1trw30V"
      },
      "source": [
        "同様に、全データを用いて学習した結果と、交差検証の結果と、ensembleの結果を比較してみましょう。"
      ]
    },
    {
      "cell_type": "code",
      "execution_count": null,
      "metadata": {
        "id": "05BhfWrwNRO3"
      },
      "outputs": [],
      "source": [
        "from sklearn.ensemble import RandomForestClassifier\n",
        "\n",
        "model = RandomForestClassifier()\n",
        "models = depict.kfold_cv(model, X, Y2)\n",
        "ensemble = VotingEstimator([(str(n), m) for n, m in enumerate(models)])\n",
        "depict.classification_metrics(ensemble, X, Y2)"
      ]
    },
    {
      "cell_type": "markdown",
      "metadata": {
        "id": "EX-35mnkw5U7"
      },
      "source": [
        "同様に、全データを用いて学習した結果と、交差検証の結果と、ensembleの結果を比較してみましょう。"
      ]
    },
    {
      "cell_type": "code",
      "execution_count": null,
      "metadata": {
        "id": "Pm_UyUyBNr5Q"
      },
      "outputs": [],
      "source": [
        "from sklearn.ensemble import GradientBoostingClassifier\n",
        "\n",
        "model = GradientBoostingClassifier()\n",
        "models = depict.kfold_cv(model, X, Y2)\n",
        "ensemble = VotingEstimator([(str(n), m) for n, m in enumerate(models)])\n",
        "depict.classification_metrics(ensemble, X, Y2)"
      ]
    },
    {
      "cell_type": "markdown",
      "metadata": {
        "id": "JwNH7Xb-w67j"
      },
      "source": [
        "同様に、全データを用いて学習した結果と、交差検証の結果と、ensembleの結果を比較してみましょう。"
      ]
    },
    {
      "cell_type": "code",
      "execution_count": null,
      "metadata": {
        "id": "ZhDcGaVIP6IJ"
      },
      "outputs": [],
      "source": [
        "from sklearn.neural_network import MLPClassifier\n",
        "\n",
        "model = MLPClassifier()\n",
        "models = depict.kfold_cv(model, X, Y2)\n",
        "ensemble = VotingEstimator([(str(n), m) for n, m in enumerate(models)])\n",
        "depict.classification_metrics(ensemble, X, Y2)"
      ]
    },
    {
      "cell_type": "markdown",
      "metadata": {
        "id": "yrZj8gDeDYs-"
      },
      "source": [
        "# 前処理\n",
        "\n",
        "ここまで、ensemble 手法を用いて複雑なモデルを設計したり、交差検証するところまで行いました。次は、データの前処理がどのように結果に影響を及ぼすか調べてみましょう。\n",
        "\n",
        "まずは、先ほど計算したものと同じですが、前処理をせずそのまま SVR するとこのようになります。\n",
        "\n",
        "\n"
      ]
    },
    {
      "cell_type": "code",
      "execution_count": null,
      "metadata": {
        "id": "ar9NkNzvRE6m"
      },
      "outputs": [],
      "source": [
        "from sklearn.svm import SVR\n",
        "\n",
        "model = SVR()\n",
        "models = depict.kfold_cv(model, X, Y)\n",
        "ensemble = VotingEstimator([(str(n), m) for n, m in enumerate(models)])\n",
        "depict.regression_metrics(ensemble, X, Y)"
      ]
    },
    {
      "cell_type": "markdown",
      "metadata": {
        "id": "aWeH6WvDl7DN"
      },
      "source": [
        "前処理として StandardScaler を用いた Pipeline を作るとどのようになるでしょうか。"
      ]
    },
    {
      "cell_type": "code",
      "execution_count": null,
      "metadata": {
        "id": "NqBThY4nRHBu"
      },
      "outputs": [],
      "source": [
        "from sklearn.svm import SVR\n",
        "from sklearn.preprocessing import StandardScaler\n",
        "from sklearn.pipeline import Pipeline\n",
        "\n",
        "model = Pipeline([('scaler', StandardScaler()), ('svm', SVR())])\n",
        "models = depict.kfold_cv(model, X, Y)\n",
        "ensemble = VotingEstimator([(str(n), m) for n, m in enumerate(models)])\n",
        "depict.regression_metrics(ensemble, X, Y)"
      ]
    },
    {
      "cell_type": "markdown",
      "metadata": {
        "id": "Wn2OFMnQmJEV"
      },
      "source": [
        "StandardScaler を通してから PCA を通したものを SVR するとどうなるでしょうか。"
      ]
    },
    {
      "cell_type": "code",
      "execution_count": null,
      "metadata": {
        "id": "jT8DyKI3RfGL"
      },
      "outputs": [],
      "source": [
        "from sklearn.svm import SVR\n",
        "from sklearn.preprocessing import StandardScaler\n",
        "from sklearn.pipeline import Pipeline\n",
        "from sklearn.decomposition import PCA\n",
        "\n",
        "model = Pipeline([('scaler', StandardScaler()), ('pca', PCA()), ('svm', SVR())])\n",
        "models = depict.kfold_cv(model, X, Y)\n",
        "ensemble = VotingEstimator([(str(n), m) for n, m in enumerate(models)])\n",
        "depict.regression_metrics(ensemble, X, Y)"
      ]
    },
    {
      "cell_type": "markdown",
      "metadata": {
        "id": "9L-pf3xtmVUL"
      },
      "source": [
        "PCA の長所の一つは、第一主成分から順番に、分散の大きい成分をピックアップできることです。それらが精度に与える影響を調べてみましょう。"
      ]
    },
    {
      "cell_type": "code",
      "execution_count": null,
      "metadata": {
        "id": "vlpsXkVqSHyj"
      },
      "outputs": [],
      "source": [
        "from sklearn.svm import SVR\n",
        "from sklearn.preprocessing import StandardScaler\n",
        "from sklearn.pipeline import Pipeline\n",
        "from sklearn.decomposition import PCA\n",
        "\n",
        "for n_components in [2, 10, 50, 100, 150]:\n",
        "    print(\"n_components=\", n_components)\n",
        "    model = Pipeline([('scaler', StandardScaler()), ('pca', PCA(n_components=n_components)), ('svm', SVR())])\n",
        "    models = depict.kfold_cv(model, X, Y)\n",
        "    ensemble = VotingEstimator([(str(n), m) for n, m in enumerate(models)])\n",
        "    depict.regression_metrics(ensemble, X, Y)"
      ]
    },
    {
      "cell_type": "markdown",
      "metadata": {
        "id": "iSDr5IDiDY4D"
      },
      "source": [
        "## 特徴選択\n",
        "\n",
        "これも前処理の一つと言えますが、回帰や分類に対する寄与の大きい特徴量だけを選んで学習させると、精度が向上することがあります。特徴の重要度の算出方法は多数ありますが、そのうちの一つが RandomForest によるものです。"
      ]
    },
    {
      "cell_type": "code",
      "execution_count": null,
      "metadata": {
        "id": "w-TTAEyISlfs"
      },
      "outputs": [],
      "source": [
        "from sklearn.ensemble import RandomForestClassifier\n",
        "from rdkit_supporter import depict\n",
        "\n",
        "model = RandomForestClassifier()\n",
        "model.fit(X, Y2)\n",
        "depict.feature_importances(model, X)"
      ]
    },
    {
      "cell_type": "markdown",
      "metadata": {
        "id": "dDVeD1tQAemq"
      },
      "source": [
        "興味深いことに、同じデータに対して同じ事象を予測しようとしても、回帰問題として考えた時と、分類問題として考えた時で、予測に寄与する特徴量は異なってしまうことが多いです。（ですので、その解釈には気をつけなければなりません。）"
      ]
    },
    {
      "cell_type": "code",
      "execution_count": null,
      "metadata": {
        "id": "ISSAcd9rSyiC"
      },
      "outputs": [],
      "source": [
        "from sklearn.ensemble import RandomForestRegressor\n",
        "from rdkit_supporter import depict\n",
        "\n",
        "model = RandomForestRegressor()\n",
        "model.fit(X, Y)\n",
        "depict.feature_importances(model, X)"
      ]
    },
    {
      "cell_type": "markdown",
      "metadata": {
        "id": "70ikSOuBA46S"
      },
      "source": [
        "GradientBoosting も同様に、特徴量の重要度を算出できます。"
      ]
    },
    {
      "cell_type": "code",
      "execution_count": null,
      "metadata": {
        "id": "E31SY9rSTUOm"
      },
      "outputs": [],
      "source": [
        "from sklearn.ensemble import GradientBoostingRegressor\n",
        "from rdkit_supporter import depict\n",
        "\n",
        "model = GradientBoostingRegressor()\n",
        "model.fit(X, Y)\n",
        "depict.feature_importances(model, X)"
      ]
    },
    {
      "cell_type": "markdown",
      "metadata": {
        "id": "CBX2P5ogJMC5"
      },
      "source": [
        "それでは、上記のようにして得られた重要な特徴量のトップいくつかをピックアップして、それのみを説明変数とした予測器の性能の変化を追ってみましょう。"
      ]
    },
    {
      "cell_type": "code",
      "execution_count": null,
      "metadata": {
        "id": "g_DXbkwNXBEC"
      },
      "outputs": [],
      "source": [
        "selector = model"
      ]
    },
    {
      "cell_type": "code",
      "execution_count": null,
      "metadata": {
        "id": "Xd8huTzJbygp"
      },
      "outputs": [],
      "source": [
        "from rdkit_supporter.preprocess import FeatureMasker, features_top\n",
        "from sklearn.pipeline import Pipeline\n",
        "from sklearn.preprocessing import StandardScaler\n",
        "from sklearn.svm import SVR\n",
        "\n",
        "for top in [2, 10, 50, 100, 150]:\n",
        "    print(\"top=\", top)\n",
        "    model = Pipeline(\n",
        "        [\n",
        "            (\"fm\", FeatureMasker(\n",
        "                remaining_cols=features_top(top, selector, X)\n",
        "                )\n",
        "            ),\n",
        "            (\"scaler\", StandardScaler()),\n",
        "            (\"svm\", SVR()),\n",
        "        ]\n",
        "    )\n",
        "    models = depict.kfold_cv(model, X, Y)\n",
        "    ensemble = VotingEstimator([(str(n), m) for n, m in enumerate(models)])\n",
        "    depict.regression_metrics(ensemble, X, Y)"
      ]
    },
    {
      "cell_type": "markdown",
      "metadata": {
        "id": "8FqfHzkw3LyR"
      },
      "source": [
        "# ハイパーパラメーターチューニング\n",
        "\n",
        "第４回講義の最後に、ようやくハイパーパラメーターチューニングを行います。ここまで、ハイパーパラメーターチューニングは行いませんでした。ハイパーパラメーターチューニングに頼らなくても、その他の工夫で予測性がけっこう向上できるということがお分かりいただけたのではないかと思います。ハイパーパラメーターチューニングは普通、時間がかかります。ですので、ハイパーパラメーターチューニングに頼るのは、最後の方で良いのかもしれません。ハイパーパラメーターチューニングについて詳しくは第１回講義で解説しましたので、復習してみてください。"
      ]
    },
    {
      "cell_type": "code",
      "execution_count": null,
      "metadata": {
        "id": "pO6BXENxjTqm"
      },
      "outputs": [],
      "source": [
        "from sklearn.model_selection import GridSearchCV\n",
        "top = 50\n",
        "parameters = dict({ \n",
        "    \"svm__C\": [1, 10, 100], \n",
        "              #\"svm__kernel\":[\"poly\", \"rbf\", \"linear\"],\n",
        "              #\"svm__gamma\": [\"auto\", \"scale\"], \n",
        "              #\"svm__degree\": [1, 3, 5],\n",
        "              #\"svm__max_iter\":[530000]\n",
        "              }\n",
        "              )\n",
        "model = GridSearchCV(\n",
        "    Pipeline(\n",
        "        [\n",
        "            (\"fm\", FeatureMasker(\n",
        "                remaining_cols=features_top(top, selector, X)\n",
        "                )\n",
        "            ),\n",
        "            (\"scaler\", StandardScaler()),\n",
        "            (\"svm\", SVR()),\n",
        "        ]\n",
        "    ), parameters)\n",
        "models = depict.kfold_cv(model, X, Y)\n",
        "ensemble = VotingEstimator([(str(n), m) for n, m in enumerate(models)])\n",
        "depict.regression_metrics(ensemble, X, Y)"
      ]
    },
    {
      "cell_type": "markdown",
      "metadata": {
        "id": "5yZMdCsxNBJH"
      },
      "source": [
        "# 課題\n",
        "\n",
        "1. この講義では、RDKit descriptor を説明変数とした予測を行いました。ECFP2 フィンガープリントを説明変数として用いて同じ計算を行い、得られた結果を RDKit descriptor による結果と比較してください。\n",
        "\n",
        "2. RDKit descriptor を説明変数とした予測と、ECFP2 フィンガープリントを説明変数とした予測の両方を有効活用した予測を行うにはどうすればよいか考察してください。\n",
        "\n",
        "3. ここまで、機械学習的な側面に注目してきましたが、予測結果が得られれば、それについてドメイン（その分野）特有の解釈を入れる必要があります。今回用いた分子は創薬とは関係のない分子でしたが、もしこのような機械学習手法を創薬に活用するならば、どのような分子に対して、どのような目的変数を考え、予測結果に対してどのような解釈を加えると良いのか、例を挙げて説明してください。"
      ]
    },
    {
      "cell_type": "markdown",
      "metadata": {
        "id": "Hh1Z479vMaSm"
      },
      "source": [
        "## 提出方法：\n",
        "\n",
        "下記のいずれかの方法で提出してください。\n",
        "\n",
        "- Google Colaboratory 上で動作させたコードを ikemenmaskot@gmail.com に「共有」\n",
        "\n",
        "- Jupyter Notebook 上で動作させたコードを ipynb 形式または html 形式にして ikemenmaskot@gmail.com に「メール送信」"
      ]
    }
  ],
  "metadata": {
    "colab": {
      "provenance": [],
      "include_colab_link": true
    },
    "kernelspec": {
      "display_name": "Python 3",
      "language": "python",
      "name": "python3"
    },
    "language_info": {
      "codemirror_mode": {
        "name": "ipython",
        "version": 3
      },
      "file_extension": ".py",
      "mimetype": "text/x-python",
      "name": "python",
      "nbconvert_exporter": "python",
      "pygments_lexer": "ipython3",
      "version": "3.8.0"
    }
  },
  "nbformat": 4,
  "nbformat_minor": 0
}